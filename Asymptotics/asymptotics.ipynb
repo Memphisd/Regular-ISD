{
 "cells": [
  {
   "cell_type": "code",
   "execution_count": 1,
   "id": "bf533ab7-4db0-4342-9d42-832e6108c445",
   "metadata": {
    "tags": []
   },
   "outputs": [],
   "source": [
    "import collections\n",
    "import random\n",
    "from random import  uniform\n",
    "from math import *\n",
    "import scipy.optimize as opt\n",
    "import math \n",
    "import matplotlib.pyplot as plt\n",
    "from scipy.optimize import fsolve\n",
    "import warnings\n",
    "import numpy as np\n",
    "import multiprocessing\n",
    "import pickle\n",
    "\n",
    "multiprocessing.set_start_method('fork')\n",
    "warnings.filterwarnings(\"ignore\", category=RuntimeWarning)"
   ]
  },
  {
   "cell_type": "markdown",
   "id": "02ea12fc-76d6-42fe-8c27-d8be1e654b9f",
   "metadata": {},
   "source": [
    "### Auxiliary Functions"
   ]
  },
  {
   "cell_type": "code",
   "execution_count": 2,
   "id": "fdf98c47-5ff7-4bd4-bbed-ca28933815d1",
   "metadata": {
    "tags": []
   },
   "outputs": [],
   "source": [
    "def write_dict(d):\n",
    "    with open('data.pkl', 'wb') as file:\n",
    "        pickle.dump(d, file)\n",
    "        \n",
    "def read_dict():\n",
    "    with open('data.pkl', 'rb') as file:\n",
    "        loaded_dict = pickle.load(file)\n",
    "    return loaded_dict"
   ]
  },
  {
   "cell_type": "code",
   "execution_count": 3,
   "id": "98cad540-a7b6-4418-9328-96eefdc9c2af",
   "metadata": {
    "tags": []
   },
   "outputs": [],
   "source": [
    "def Hi(v):\n",
    "    if v==1:\n",
    "        return 0.5\n",
    "    if v < 0.000001:\n",
    "        return 0\n",
    "    return fsolve(lambda x:v -(-x*log2(x)-(1-x)*log2(1-x)),0.0000001)[0]\n",
    "\n",
    "def H(c):\n",
    "    \"\"\"\n",
    "    Entropy function\n",
    "    \"\"\"\n",
    "    if c == 0. or c == 1.:\n",
    "        return 0.\n",
    "    \n",
    "    if c < 0. or c > 1.:\n",
    "        return -1000\n",
    "    \n",
    "    return -(c * log2(c) + (1 - c) * log2(1 - c))\n",
    "\n",
    "def binomH(n,k):\n",
    "    \"\"\"\n",
    "    binomial coefficient\n",
    "    \"\"\"\n",
    "    # if k/n not in ZZ:\n",
    "    #     return -100\n",
    "    if(n<=0):\n",
    "        return 0.\n",
    "    return n * H(k/n)\n"
   ]
  },
  {
   "cell_type": "markdown",
   "id": "83166e08-7055-4ec8-b1d7-14e196796640",
   "metadata": {},
   "source": [
    "# Permutation-based ISD"
   ]
  },
  {
   "cell_type": "markdown",
   "id": "b0ce41cb-72ec-46fd-bd82-42f9a7eed947",
   "metadata": {},
   "source": [
    "#### Prange SD"
   ]
  },
  {
   "cell_type": "code",
   "execution_count": 4,
   "id": "a114cae0-1f44-41c1-b9d6-9d03ef8a2f32",
   "metadata": {
    "tags": []
   },
   "outputs": [],
   "source": [
    "def uniquness_bound(kp):\n",
    "    return fsolve(lambda x:log2(1/x)*x-(1-kp),0.00001)[0]\n",
    "\n",
    "def prange(k,w):\n",
    "    # exploit symmetry in case weight larger than 1/2\n",
    "    if w>0.5:\n",
    "        w=1-w\n",
    "    # polynomial regime\n",
    "    if w>(1-k)/2 and w<(1+k)/2:\n",
    "        return 0\n",
    "    \n",
    "    # time in case w>n-k, implies there must be p>0\n",
    "    if w>1-k:\n",
    "        def time(p):\n",
    "            return binomH(1,w)-binomH(1-k,w-p)\n",
    "        return opt.fminbound(time, w-(1-k),w, xtol=1e-10, full_output=1)[1]\n",
    "\n",
    "    return binomH(1,w)-binomH(1-k,w)\n",
    "\n",
    "def prange_sd(k,w):\n",
    "    # prange time with speedup in number of solutions\n",
    "    return max(prange(k,w)-max(binomH(1,w)-(1-k),0),0)"
   ]
  },
  {
   "cell_type": "markdown",
   "id": "93b0889d-c94d-434b-819c-30bff50708e5",
   "metadata": {},
   "source": [
    "#### Perm (Section 4.1)"
   ]
  },
  {
   "cell_type": "code",
   "execution_count": 5,
   "id": "8d3363f7-ba31-453b-a608-e4fae1ea6fae",
   "metadata": {
    "tags": []
   },
   "outputs": [],
   "source": [
    "def sample_per_block(k,w):\n",
    "    # time for RSD permutations\n",
    "    return w*log2(1/(1-k))\n",
    "\n",
    "def time_perm_rsd(k,w):\n",
    "    # time for updated dimension with linear speedup in number of solutions\n",
    "    return max(sample_per_block(k-w,w)-max(log2(1/w)*w-(1-k),0),0)"
   ]
  },
  {
   "cell_type": "markdown",
   "id": "3e03fe1c-e543-486c-89c6-d52cac9deab8",
   "metadata": {},
   "source": [
    "# Optimization Specific Functions"
   ]
  },
  {
   "cell_type": "markdown",
   "id": "49f1b4cb-f632-4a6a-883e-cb4e73929325",
   "metadata": {},
   "source": [
    "From here on we use numerical optimization programs with multiple optimization parameters.\n",
    "We therefore specify some additional auxiliary functions"
   ]
  },
  {
   "cell_type": "code",
   "execution_count": 6,
   "id": "64dcafa5-c300-4ff9-a299-b0919f74d600",
   "metadata": {
    "tags": []
   },
   "outputs": [],
   "source": [
    "#dimension and weight functions used globally by the optimization programs\n",
    "k = lambda x : 1\n",
    "w = lambda x : 1\n",
    "\n",
    "# block length in k+ell part\n",
    "v = lambda x : ((k(x)+x.ell)/x.N)\n",
    "\n",
    "# overall block length\n",
    "b = lambda x : (1/w(x))"
   ]
  },
  {
   "cell_type": "code",
   "execution_count": 7,
   "id": "4f57d4fb-5c43-49b2-8e0c-8f41c3728f3c",
   "metadata": {
    "tags": []
   },
   "outputs": [],
   "source": [
    "def wrap(f,g) :\n",
    "    def inner(x):\n",
    "        return f(g(*x))\n",
    "    return inner\n",
    "\n",
    "def r(x,y,z):\n",
    "    return [(uniform(x,y)) for i in range(z)]\n",
    "\n",
    "def time_opt(kp,w_in,time,memory,constraints,num_vars,iterations=30,give_x=0, params=0):\n",
    "    \"\"\"\n",
    "    time and constraints define optimization program with goal to minimize time while ensuring all constraints\n",
    "    memory is function that thakes the optimization parameters returning memory of the algorithm\n",
    "    num_vars specifies number of optimization parameters\n",
    "    iterations specify how often optimization is run (best result is returned)\n",
    "    kp, w_in define dimension and weight (regularity is encoded by the time_opt function)\n",
    "    \"\"\"\n",
    "    \n",
    "    kp=max(0,kp-w_in)\n",
    "    \n",
    "    # sets k, w functions used by time and constraints \n",
    "    global k,w\n",
    "    k = lambda x : kp\n",
    "    w = lambda x : w_in\n",
    "    \n",
    "    # polynomial regime\n",
    "    if k([])<0:\n",
    "        return 0\n",
    "    \n",
    "    # minimize over multiple runs of the optimizer\n",
    "    res=1000\n",
    "    ress=1000\n",
    "    for j in range(iterations):\n",
    "\n",
    "        # set random starting points and bounds    \n",
    "        start=r(0,0.009,num_vars)\n",
    "        bounds=[(0,1)]*num_vars\n",
    "\n",
    "        # optimize and store minimum\n",
    "        result = opt.minimize(time, start, \n",
    "                bounds= bounds, tol=1e-8, \n",
    "                constraints=constraints, options={'maxiter':2000})\n",
    "        tmp = result.get('fun')\n",
    "        if(tmp < res and tmp >0 and result.success):\n",
    "            res = tmp\n",
    "            ress = result\n",
    "            \n",
    "    # return full output (for debugging)\n",
    "    if give_x:\n",
    "        return ress\n",
    "    \n",
    "    #return time and memory\n",
    "    if params:\n",
    "        return [res,memory(ress.x),ress.x[:-1]]\n",
    "    return [res,memory(ress.x)]"
   ]
  },
  {
   "cell_type": "markdown",
   "id": "48662a4c-4305-449c-9e7d-74950a466669",
   "metadata": {},
   "source": [
    "# Enumeration-based ISD (Section 4.2)"
   ]
  },
  {
   "cell_type": "code",
   "execution_count": 8,
   "id": "bed3767f-9ffa-4c9e-9b5a-0025a3526aba",
   "metadata": {
    "tags": []
   },
   "outputs": [],
   "source": [
    "# ell, p as in the paper\n",
    "# N is the number of blocks used to sample from for the k+ell part\n",
    "set_vars_enum = collections.namedtuple('ENUM', 'ell p N')\n",
    "\n",
    "def enum(f) : return wrap(f, set_vars_enum)\n",
    "\n",
    "def time_enum_par(x):\n",
    "    x=set_vars_enum(*x)\n",
    "    \n",
    "    # some constraints to ensure computations are well defined\n",
    "    # those are covered (even more strict) in the constraints array, but it is not ensured\n",
    "    # that the time_enum_par function is only called on parameters satisfying the constraint array\n",
    "    # while a final solution is of course only valid if the constraint array is fully satisfied\n",
    "    if(b(x)-v(x))<1e-10:\n",
    "        return 1000\n",
    "    if x.p>x.N or v(x)/b(x)<=0 or 1-v(x)/b(x)<=0:\n",
    "        return 1000\n",
    "    \n",
    "    # probability of having x.p blocks out of x.N with weight and x.N-x.p with weight zero\n",
    "    prob = binomH(x.N,x.p)+log2(1-v(x)/b(x))*(x.N-x.p) +log2(v(x)/b(x))*x.p\n",
    "    # list size\n",
    "    L1=binomH(x.N/2,x.p/2)+log2(v(x))*x.p/2\n",
    "    # matches\n",
    "    L = 2*L1 - x.ell\n",
    "    \n",
    "    return max(L1,L)-prob\n",
    "\n",
    "def memory_enum_par(x):\n",
    "    x=set_vars_enum(*x)\n",
    "    L1=binomH(x.N/2,x.p/2)+log2(v(x))*x.p/2\n",
    "    return L1\n",
    "\n",
    "constraints_enum = [\n",
    "    \n",
    "    # bounds on variables\n",
    "    { 'type' : 'ineq',   'fun' : enum(lambda x : 1-(x.ell+k([])))},\n",
    "    { 'type' : 'ineq',   'fun' : enum(lambda x : w(x)-x.N)},\n",
    "    \n",
    "    # to always sample from all blocks comment next line and uncomment the one after\n",
    "    { 'type' : 'ineq',   'fun' : enum(lambda x : x.N-x.p)},\n",
    "    #{ 'type' : 'eq',   'fun' : enum(lambda x : x.N-x.p)},\n",
    "    \n",
    "    \n",
    "    # blocks of width at least one\n",
    "    { 'type' : 'ineq',   'fun' : enum(lambda x : b(x)-v(x)-1)},\n",
    "    { 'type' : 'ineq',   'fun' : enum(lambda x : v(x)-0.9999)},\n",
    "      \n",
    "\n",
    "]\n",
    "\n",
    "def time_enum(k,w, params=0):\n",
    "    # outputs time and memory to solve RSD via Enum\n",
    "    return time_opt(k,w,time_enum_par,memory_enum_par,constraints_enum,3,iterations=500,give_x=0, params=params)\n"
   ]
  },
  {
   "cell_type": "markdown",
   "id": "6175513e-5c64-459e-a54c-d40bf5644cbe",
   "metadata": {},
   "source": [
    "# Representation-based ISD"
   ]
  },
  {
   "cell_type": "markdown",
   "id": "c5cd65cc-3072-409d-978d-660bd4a3b045",
   "metadata": {
    "tags": []
   },
   "source": [
    "#### Depth 3 (Section 4.3)"
   ]
  },
  {
   "cell_type": "code",
   "execution_count": 9,
   "id": "edfd02b9-5007-4b29-a1d8-21ecf18bd9a4",
   "metadata": {
    "tags": []
   },
   "outputs": [],
   "source": [
    "set_vars_bj = collections.namedtuple('REP', 'ell p d1 d2 N')\n",
    "\n",
    "def rep(f) : return wrap(f, set_vars_bj)\n",
    "\n",
    "def representations(ell,p_target,p_addends,x):\n",
    "    x=set_vars_bj(*x)\n",
    "    return binomH(p_target, p_target/2)+binomH(ell-p_target,p_addends-p_target/2)+log2(v(x))*(p_addends-p_target/2)\n",
    "\n",
    "# weight on each level (root level is level 0 with weight x.p)\n",
    "p1 = lambda x: x.p/2      + x.d1\n",
    "p2 = lambda x: p1(x) / 2  + x.d2\n",
    "p3 = lambda x: p2(x) / 2\n",
    "\n",
    "# representations ri from level i to level i-1\n",
    "r1 = lambda x: representations(x.N, x.p  , p1(x), x)\n",
    "r2 = lambda x: representations(x.N, p1(x), p2(x), x)\n",
    "\n",
    "# list sizes on each level\n",
    "L1 = lambda x: binomH(x.N  ,p1(x))+log2(v(x))*p1(x) - r1(x)\n",
    "L2 = lambda x: binomH(x.N  ,p2(x))+log2(v(x))*p2(x) - r2(x)\n",
    "L3 = lambda x: binomH(x.N/2,p3(x))+log2(v(x))*p3(x)\n",
    "\n",
    "# time Ti to construct lists on level i\n",
    "T1 = lambda x: max(2*L1(x) - ( x.ell - r1(x)), L1(x))\n",
    "T2 = lambda x: max(2*L2(x) - ( r1(x) - r2(x)), L2(x))\n",
    "T3 = lambda x: max(2*L3(x) - ( r2(x        )), L3(x))\n",
    "\n",
    "\n",
    "                      \n",
    "def time_rep_par(x):\n",
    "    x=set_vars_bj(*x)  \n",
    "    \n",
    "    # ensuring block length on k+ell part is not larger than overall block length\n",
    "    if v(x)/b(x)>=1:\n",
    "        return 1000\n",
    "    \n",
    "    #probability as in enum\n",
    "    prob = binomH(x.N,x.p)+log2(1-v(x)/b(x))*(x.N-x.p) +log2(v(x)/b(x))*x.p\n",
    "\n",
    "    return max(T1(x),T2(x),T3(x))-prob\n",
    "\n",
    "def memory_rep_par(x):\n",
    "    x=set_vars_bj(*x)\n",
    "    return max(L3(x),L2(x),L1(x))\n",
    "\n",
    "constraints_rep = [\n",
    "    \n",
    "    # representation constraints\n",
    "    { 'type' : 'ineq',   'fun' : rep(lambda x : x.ell-r1(x))},\n",
    "    { 'type' : 'ineq',   'fun' : rep(lambda x : r1(x)-r2(x))},\n",
    "    \n",
    "    # bounds on variables\n",
    "    { 'type' : 'ineq',   'fun' : rep(lambda x : 1-(x.ell+k([])))},\n",
    "    # for considering always all blocks in the permutation switch next both lines\n",
    "    #{ 'type' : 'ineq',   'fun' : rep(lambda x : w(x)-x.N)},\n",
    "    { 'type' : 'eq',   'fun' : rep(lambda x : w(x)-x.N)},\n",
    "    \n",
    "    # blocks of width at least 1 \n",
    "    { 'type' : 'ineq',   'fun' : rep(lambda x : b(x)-v(x)-1)},\n",
    "    { 'type' : 'ineq',   'fun' : rep(lambda x : v(x)-1)},\n",
    "    \n",
    "    # weight on each level + weight that cancels must fit into the N blocks\n",
    "    { 'type' : 'ineq',   'fun' : rep(lambda x : x.N-p2(x))},\n",
    "    { 'type' : 'ineq',   'fun' : rep(lambda x : x.N-p1(x)-x.d2)},\n",
    "    { 'type' : 'ineq',   'fun' : rep(lambda x : x.N-x.p-x.d1)},\n",
    "    \n",
    "]\n",
    "\n",
    "def time_rep(k,w, params=0):\n",
    "    # outputs time and memory to solve RSD via Rep depth 3\n",
    "    return time_opt(k,w,time_rep_par,memory_rep_par,constraints_rep,5,iterations=100,give_x=0, params=params)\n",
    "\n"
   ]
  },
  {
   "cell_type": "markdown",
   "id": "e9458349-8f89-42fc-868e-3a166b4599a9",
   "metadata": {
    "tags": []
   },
   "source": [
    "#### Depth 4"
   ]
  },
  {
   "cell_type": "markdown",
   "id": "fe208e50-1522-4ca0-a28a-91b108174211",
   "metadata": {},
   "source": [
    "Does not lead to improvement over Rep depth 3 (just for completness)"
   ]
  },
  {
   "cell_type": "code",
   "execution_count": 10,
   "id": "c54d75ca-5490-47b0-9f6c-f93ac9774247",
   "metadata": {
    "tags": []
   },
   "outputs": [],
   "source": [
    "set_vars_rep_d4 = collections.namedtuple('BJMM', 'ell p d1 d2 d3 N')\n",
    "\n",
    "def rep_d4(f) : return wrap(f, set_vars_rep_d4)\n",
    "\n",
    "\n",
    "def representations_d4(ell,p_target,p_addends,x):\n",
    "    x=set_vars_rep_d4(*x)\n",
    "    return binomH(p_target, p_target/2)+binomH(ell-p_target,p_addends-p_target/2)+log2(v(x))*(p_addends-p_target/2)\n",
    "\n",
    "# weight on each level (root level is level 0 with weight x.p)\n",
    "p1_d4 = lambda x: x.p/2      + x.d1\n",
    "p2_d4 = lambda x: p1_d4(x) / 2  + x.d2\n",
    "p3_d4 = lambda x: p2_d4(x) / 2  + x.d3\n",
    "p4_d4 = lambda x: p3_d4(x) / 2\n",
    "\n",
    "# representations ri from level i to level i-1\n",
    "r3_d4 = lambda x: representations_d4(x.N, p2_d4(x), p3_d4(x), x)\n",
    "r2_d4 = lambda x: representations_d4(x.N, p1_d4(x), p2_d4(x), x)\n",
    "r1_d4 = lambda x: representations_d4(x.N, x.p     , p1_d4(x), x)\n",
    "\n",
    "# list sizes on each level\n",
    "L4_d4 = lambda x: binomH(x.N/2,p4_d4(x))+log2(v(x))*p4_d4(x)\n",
    "L3_d4 = lambda x: binomH(x.N  ,p3_d4(x))+log2(v(x))*p3_d4(x) - r3_d4(x)\n",
    "L2_d4 = lambda x: binomH(x.N  ,p2_d4(x))+log2(v(x))*p2_d4(x) - r2_d4(x)\n",
    "L1_d4 = lambda x: binomH(x.N  ,p1_d4(x))+log2(v(x))*p1_d4(x) - r1_d4(x)\n",
    "\n",
    "# time Ti to construct lists on level i\n",
    "T4_d4 = lambda x: max(2*L4_d4(x) - ( r3_d4(x           )), L4_d4(x))\n",
    "T3_d4 = lambda x: max(2*L3_d4(x) - ( r2_d4(x           )), L3_d4(x))\n",
    "T2_d4 = lambda x: max(2*L2_d4(x) - ( r1_d4(x) - r2_d4(x)), L2_d4(x))\n",
    "T1_d4 = lambda x: max(2*L1_d4(x) - ( x.ell - r1_d4(x)   ), L1_d4(x))\n",
    "                      \n",
    "def time_rep_par_d4(x):\n",
    "    x=set_vars_rep_d4(*x)    \n",
    "    \n",
    "    # ensure computation well defined\n",
    "    if v(x)/b(x)>=1:\n",
    "        return 1000\n",
    "    \n",
    "    # probability as in enum\n",
    "    prob = binomH(x.N,x.p)+log2(1-v(x)/b(x))*(x.N-x.p) +log2(v(x)/b(x))*x.p\n",
    "    \n",
    "    return max(T1_d4(x),T2_d4(x),T3_d4(x),T4_d4(x))-prob\n",
    "\n",
    "def memory_rep_par_d4(x):\n",
    "    x=set_vars_rep_d4(*x)\n",
    "    return max(L4_d4(x),L3_d4(x),L2_d4(x),L1_d4(x))\n",
    "\n",
    "constraints_rep_d4 = [\n",
    "    \n",
    "    # representation constraints\n",
    "    { 'type' : 'ineq',   'fun' : rep_d4(lambda x : x.ell   -r1_d4(x))},\n",
    "    { 'type' : 'ineq',   'fun' : rep_d4(lambda x : r1_d4(x)-r2_d4(x))},\n",
    "    { 'type' : 'ineq',   'fun' : rep_d4(lambda x : r2_d4(x)-r3_d4(x))},\n",
    "    \n",
    "    # bounds on variables\n",
    "    { 'type' : 'ineq',   'fun' : rep_d4(lambda x : 1-(x.ell+k([])))},\n",
    "    \n",
    "    # switch between all blocks and variable blocks for k+ell part\n",
    "    { 'type' : 'ineq',   'fun' : rep_d4(lambda x : w(x)-x.N)},\n",
    "    #{ 'type' : 'eq',   'fun' : rep_d4(lambda x : w(x)-x.N)},\n",
    "    \n",
    "    # blocks of width at least 1 \n",
    "    { 'type' : 'ineq',   'fun' : rep_d4(lambda x : b(x)-v(x)-1)},\n",
    "    { 'type' : 'ineq',   'fun' : rep_d4(lambda x : v(x)-1)},\n",
    "    \n",
    "    # weight on each level + weight that cancels must fit into the N blocks\n",
    "    { 'type' : 'ineq',   'fun' : rep_d4(lambda x : x.N-p3_d4(x))},\n",
    "    { 'type' : 'ineq',   'fun' : rep_d4(lambda x : x.N-p2_d4(x)-x.d3)},\n",
    "    { 'type' : 'ineq',   'fun' : rep_d4(lambda x : x.N-p1_d4(x)-x.d2)},\n",
    "    { 'type' : 'ineq',   'fun' : rep_d4(lambda x : x.N-x.p  -x.d1)},\n",
    "]\n",
    "\n",
    "def time_rep_d4(k,w):\n",
    "    # outputs time and memory to solve RSD via Rep depth 4\n",
    "    return time_opt(k,w,time_rep_par_d4,memory_rep_par_d4,constraints_rep_d4,6,iterations=30)\n",
    "\n"
   ]
  },
  {
   "cell_type": "markdown",
   "id": "e9ca6050-f19c-4032-a080-bd613560c30a",
   "metadata": {
    "tags": []
   },
   "source": [
    "# Nearest Neighbor-based regular-ISD"
   ]
  },
  {
   "cell_type": "markdown",
   "id": "4921264d-3845-4c86-bc0c-385364780d47",
   "metadata": {
    "tags": []
   },
   "source": [
    "#### Auxiliary function "
   ]
  },
  {
   "cell_type": "code",
   "execution_count": 11,
   "id": "a0ccc044-e234-42d8-a36f-a31c7c623656",
   "metadata": {
    "tags": []
   },
   "outputs": [],
   "source": [
    "def may_ozerov_near_neighbor_time(list_size: float, vector_length: float, target_weight: float):\n",
    "    \"\"\"\n",
    "    computes the asymptotic runtime of the Nearest Neighbour Algorithm by May-Ozerov \n",
    "    taken from https://github.com/Crypto-TII/CryptographicEstimators/blob/main/cryptographic_estimators/SDEstimator/SDWorkfactorModels/workfactor_helper.py\n",
    "    \"\"\"\n",
    "    if vector_length <= 0 or list_size < 0:\n",
    "        return 100\n",
    "    normed_list_size = list_size / vector_length\n",
    "    if normed_list_size > 0.9999999999999:\n",
    "        return 2*list_size\n",
    "\n",
    "    normed_weight = target_weight / vector_length\n",
    "    if normed_weight > 0.5:\n",
    "        normed_weight = 1 - normed_weight\n",
    "    if normed_list_size>0.99999:\n",
    "        return 2*list_size\n",
    "    d = Hi(1 - normed_list_size)\n",
    "    \n",
    "    if normed_weight <= 2 * d * (1 - d):\n",
    "        mo_exp = (1 - normed_weight) * (1 -\n",
    "                                        H((d - normed_weight / 2) / (1 - normed_weight)))\n",
    "    else:\n",
    "        mo_exp = 2 * normed_list_size + H(normed_weight) - 1\n",
    "    return max(mo_exp * vector_length, 2 * list_size - vector_length + binomH(vector_length, target_weight))\n"
   ]
  },
  {
   "cell_type": "markdown",
   "id": "15787fd3-23c2-4ee9-a3f9-f8d3f391e945",
   "metadata": {
    "tags": []
   },
   "source": [
    "#### Depth 3 (Section 4.4)"
   ]
  },
  {
   "cell_type": "code",
   "execution_count": 12,
   "id": "d17f5689-fae6-488a-8947-7c3cce064f91",
   "metadata": {
    "tags": []
   },
   "outputs": [],
   "source": [
    "set_vars_repmo = collections.namedtuple('RepMO', 'ell p d1 d2 N ')\n",
    "\n",
    "def repmo(f) : return wrap(f, set_vars_repmo)\n",
    "\n",
    "def reps_repmo(ell,p_target,p_addends,x):\n",
    "    x=set_vars_repmo(*x)\n",
    "    return binomH(p_target, p_target/2)+binomH(ell-p_target,p_addends-p_target/2)+log2(v(x))*(p_addends-p_target/2)\n",
    "\n",
    "# weight on each level (root level is level 0 with weight x.p)\n",
    "p1_repmo = lambda x: x.p/2      + x.d1\n",
    "p2_repmo = lambda x: p1_repmo(x) / 2  + x.d2\n",
    "p3_repmo = lambda x: p2_repmo(x) / 2\n",
    "\n",
    "# representations ri from level i to level i-1\n",
    "r2_repmo = lambda x: reps_repmo(x.N, p1_repmo(x), p2_repmo(x),x)\n",
    "r1_repmo = lambda x: reps_repmo(x.N, x.p  , p1_repmo(x),x)\n",
    "\n",
    "# list sizes on each level\n",
    "L3_repmo = lambda x: binomH(x.N/2,p3_repmo(x))+log2(v(x))*p3_repmo(x)\n",
    "L2_repmo = lambda x: binomH(x.N  ,p2_repmo(x))+log2(v(x))*p2_repmo(x) - r2_repmo(x)\n",
    "L1_repmo = lambda x: binomH(x.N  ,p1_repmo(x))+log2(v(x))*p1_repmo(x) - r1_repmo(x)\n",
    "\n",
    "# time Ti to construct lists on level i\n",
    "T3_repmo = lambda x: max(2*L3_repmo(x) - ( r2_repmo(x           )), L3_repmo(x))\n",
    "T2_repmo = lambda x: max(2*L2_repmo(x) - ( r1_repmo(x) - r2_repmo(x)), L2_repmo(x))\n",
    "                  \n",
    "def time_repmo(x):\n",
    "    x=set_vars_repmo(*x)    \n",
    "    \n",
    "    # ensure parameters are well defined\n",
    "    if(b(x)-v(x))<1e-10 or r1_repmo(x)<0 or v(x)<1:\n",
    "        return 1000\n",
    "    \n",
    "    # probability as in enum\n",
    "    prob = binomH(x.N,x.p)+log2(1-v(x)/b(x))*(x.N-x.p) +log2(v(x)/b(x))*x.p\n",
    "    \n",
    "    # cost for MO NN routine\n",
    "    MO_cost = max(may_ozerov_near_neighbor_time(L1_repmo(x),1-k(x)-r1_repmo(x),w(x)-x.p), L1_repmo(x))\n",
    "    \n",
    "    return max(MO_cost,T2_repmo(x),T3_repmo(x))-prob\n",
    "\n",
    "def memory_repmo(x):\n",
    "    x=set_vars_repmo(*x)\n",
    "    return max(L1_repmo(x),L2_repmo(x),L3_repmo(x))\n",
    "\n",
    "constraints_repmo = [\n",
    "    # representation constraints\n",
    "    { 'type' : 'ineq',   'fun' : repmo(lambda x : r1_repmo(x))},\n",
    "    { 'type' : 'ineq',   'fun' : repmo(lambda x : r1_repmo(x)-r2_repmo(x))},\n",
    "    \n",
    "    # block width\n",
    "    { 'type' : 'ineq',   'fun' : repmo(lambda x : v(x)-1)},\n",
    "    { 'type' : 'ineq',   'fun' : repmo(lambda x : b(x)-v(x)-1)},\n",
    "    \n",
    "    # ell = r1_repmo(x) (since in last level we use the nearest neighbor identity)\n",
    "    { 'type' : 'eq',   'fun' : repmo(lambda x : x.ell-r1_repmo(x))},\n",
    "    \n",
    "    # \"k+ell\" part length restriction\n",
    "    { 'type' : 'ineq',   'fun' : repmo(lambda x : 1-(r1_repmo(x)+k([])))},\n",
    "    \n",
    "    # weight on each level + weight that cancels must fit into the N blocks\n",
    "    { 'type' : 'ineq',   'fun' : repmo(lambda x : x.N-p2_repmo(x))},\n",
    "    { 'type' : 'ineq',   'fun' : repmo(lambda x : x.N-p1_repmo(x)-x.d2)},\n",
    "    { 'type' : 'ineq',   'fun' : repmo(lambda x : x.N-x.p-x.d1)},\n",
    "    \n",
    "    # switch sampling from all blocks vs only from N blocks\n",
    "    { 'type' : 'ineq',   'fun' : repmo(lambda x : w(x)-x.N)}\n",
    "    #{ 'type' : 'eq',   'fun' : repmo(lambda x : w(x)-x.N)},     \n",
    "]\n",
    "def time_may_oze(k,w, params=0):\n",
    "    return time_opt(k,w,time_repmo,memory_repmo,constraints_repmo,5,iterations=30, give_x=0, params=params)\n"
   ]
  },
  {
   "cell_type": "markdown",
   "id": "8011935c-4d0d-410b-bbd3-f33e5e7d7710",
   "metadata": {
    "tags": []
   },
   "source": [
    "#### Depth 4"
   ]
  },
  {
   "cell_type": "markdown",
   "id": "55fbf0ab-d281-4c6f-90e7-5c7a4914137c",
   "metadata": {},
   "source": [
    "no improvement over depth 3, just for completeness"
   ]
  },
  {
   "cell_type": "code",
   "execution_count": 13,
   "id": "922f23bf-4a28-4cbe-ab7c-26053a35266b",
   "metadata": {
    "tags": []
   },
   "outputs": [],
   "source": [
    "set_vars_repmo_d4 = collections.namedtuple('RepMO_D4', 'p d1 d2 d3 N ell')\n",
    "\n",
    "def repmo_d4(f) : return wrap(f, set_vars_repmo_d4)\n",
    "\n",
    "def reps_repmo_d4(ell,p_target,p_addends,x):\n",
    "    x=set_vars_repmo_d4(*x)\n",
    "    return binomH(p_target, p_target/2)+binomH(ell-p_target,p_addends-p_target/2)+log2(v(x))*(p_addends-p_target/2)\n",
    "\n",
    "# weight on each level (root level is level 0 with weight x.p)\n",
    "p1_repmo_d4 = lambda x: x.p/2            + x.d1\n",
    "p2_repmo_d4 = lambda x: p1_repmo_d4(x) / 2  + x.d2\n",
    "p3_repmo_d4 = lambda x: p2_repmo_d4(x) / 2  + x.d3\n",
    "p4_repmo_d4 = lambda x: p3_repmo_d4(x) / 2\n",
    "\n",
    "# representations ri from level i to level i-1\n",
    "r3_repmo_d4 = lambda x: reps_repmo_d4(x.N, p2_repmo_d4(x), p3_repmo_d4(x),x)\n",
    "r2_repmo_d4 = lambda x: reps_repmo_d4(x.N, p1_repmo_d4(x), p2_repmo_d4(x),x)\n",
    "r1_repmo_d4 = lambda x: reps_repmo_d4(x.N, x.p        , p1_repmo_d4(x),x)\n",
    "\n",
    "# list sizes on each level\n",
    "L4_repmo_d4 = lambda x: binomH(x.N/2,p4_repmo_d4(x))+log2(v(x))*p4_repmo_d4(x)\n",
    "L3_repmo_d4 = lambda x: binomH(x.N  ,p3_repmo_d4(x))+log2(v(x))*p3_repmo_d4(x) - r3_repmo_d4(x)\n",
    "L2_repmo_d4 = lambda x: binomH(x.N  ,p2_repmo_d4(x))+log2(v(x))*p2_repmo_d4(x) - r2_repmo_d4(x)\n",
    "L1_repmo_d4 = lambda x: binomH(x.N  ,p1_repmo_d4(x))+log2(v(x))*p1_repmo_d4(x) - r1_repmo_d4(x)\n",
    "\n",
    "# time Ti to construct lists on level i\n",
    "T4_repmo_d4 = lambda x: max(2*L4_repmo_d4(x) - ( r3_repmo_d4(x)              ), L4_repmo_d4(x))\n",
    "T3_repmo_d4 = lambda x: max(2*L3_repmo_d4(x) - ( r2_repmo_d4(x) - r3_repmo_d4(x)), L3_repmo_d4(x))\n",
    "T2_repmo_d4 = lambda x: max(2*L2_repmo_d4(x) - ( r1_repmo_d4(x) - r2_repmo_d4(x)), L2_repmo_d4(x))\n",
    "                  \n",
    "def time_repmo_d4(x):\n",
    "    \n",
    "    x=set_vars_repmo_d4(*x)   \n",
    "    \n",
    "    # ensuring computations are well defined\n",
    "    if(b(x)-v(x))<1e-10 or r1_repmo_d4(x)<0:\n",
    "        return 1000\n",
    "    \n",
    "    # probability as in stern\n",
    "    prob = binomH(x.N,x.p)+log2(1-v(x)/b(x))*(x.N-x.p) +log2(v(x)/b(x))*x.p\n",
    "    \n",
    "    # cost for May Ozerov NNS\n",
    "    MO_cost = max(may_ozerov_near_neighbor_time(L1_repmo_d4(x),1-k(x)-r1_repmo_d4(x),w(x)-x.p),L1_repmo_d4(x))\n",
    "    return max(MO_cost,T2_repmo_d4(x),T3_repmo_d4(x),T4_repmo_d4(x))-prob\n",
    "\n",
    "def memory_repmo_d4(x):\n",
    "    x=set_vars_repmo_d4(*x)\n",
    "    return max(L1_repmo_d4(x),L2_repmo_d4(x),L3_repmo_d4(x),L4_repmo_d4(x))\n",
    "\n",
    "constraints_repmo_d4 = [\n",
    "    # representation constraints\n",
    "    { 'type' : 'ineq',   'fun' : repmo_d4(lambda x : r1_repmo_d4(x))},\n",
    "    { 'type' : 'ineq',   'fun' : repmo_d4(lambda x : r1_repmo_d4(x)-r2_repmo_d4(x))},\n",
    "    { 'type' : 'ineq',   'fun' : repmo_d4(lambda x : r2_repmo_d4(x)-r3_repmo_d4(x))},\n",
    "    \n",
    "    # block width\n",
    "    { 'type' : 'ineq',   'fun' : repmo_d4(lambda x : v(x)-1)},\n",
    "    { 'type' : 'ineq',   'fun' : repmo_d4(lambda x : b(x)-v(x)-1)},\n",
    "    \n",
    "    # ell = r1_repmo_d4(x) (since in last level we use the nearest neighbor identity)\n",
    "    { 'type' : 'eq',   'fun' : repmo_d4(lambda x : x.ell-r1_repmo_d4(x))},\n",
    "    \n",
    "    # \"k+ell\" part length restriction\n",
    "    { 'type' : 'ineq',   'fun' : repmo_d4(lambda x : 1-(r1_repmo_d4(x)+k([])))},\n",
    "    \n",
    "    # weight on each level + weight that cancels must fit into the N blocks\n",
    "    { 'type' : 'ineq',   'fun' : repmo_d4(lambda x : x.N-p3_repmo_d4(x))},\n",
    "    { 'type' : 'ineq',   'fun' : repmo_d4(lambda x : x.N-p2_repmo_d4(x)-x.d3)},\n",
    "    { 'type' : 'ineq',   'fun' : repmo_d4(lambda x : x.N-p1_repmo_d4(x)-x.d2)},\n",
    "    { 'type' : 'ineq',   'fun' : repmo_d4(lambda x : x.N-x.p-x.d1)},\n",
    "    \n",
    "    # switch sampling from all blocks vs only from N blocks\n",
    "    { 'type' : 'ineq',   'fun' : repmo_d4(lambda x : w(x)-x.N)}\n",
    "    #{ 'type' : 'eq',   'fun' : repmo(lambda x : w(x)-x.N)}, \n",
    "    \n",
    "]\n",
    "def time_may_oze_d4(k,w):\n",
    "    return time_opt(k,w,time_repmo_d4,memory_repmo_d4,constraints_repmo_d4,6,iterations=30)\n"
   ]
  },
  {
   "cell_type": "markdown",
   "id": "28d9966c-cfeb-42fc-b162-f2b22df0aad3",
   "metadata": {
    "tags": []
   },
   "source": [
    "# CCJ Complexity "
   ]
  },
  {
   "cell_type": "markdown",
   "id": "c35887d1-fa46-45ea-a07f-ffc4729af83e",
   "metadata": {},
   "source": [
    "#### Normal Enumeration Version (https://eprint.iacr.org/2023/1035)"
   ]
  },
  {
   "cell_type": "code",
   "execution_count": 14,
   "id": "fb5c13e0-6a8e-4488-b8a1-853ed11f974e",
   "metadata": {
    "tags": []
   },
   "outputs": [],
   "source": [
    "def time_ccj(k,w,params=0):    \n",
    "    def L1(x):\n",
    "        # new dimensoin\n",
    "        kp=k-(1-k-x)*w*(1-w)**(-1)\n",
    "        \n",
    "        # weight on part to be enumerated\n",
    "        p = w*(kp+x)\n",
    "        \n",
    "        # return list size\n",
    "        return log2(1/w)*p/2\n",
    "\n",
    "        \n",
    "    def time_j(x):\n",
    "        return max(L1(x),2*L1(x) - x)\n",
    "    \n",
    "    a=opt.fminbound(time_j, 0,1-k, xtol=1e-10, full_output=1)\n",
    "\n",
    "    if params:\n",
    "        return a[1],L1(a[0]),[a[0]]\n",
    "    \n",
    "    return a[1],L1(a[0])"
   ]
  },
  {
   "cell_type": "markdown",
   "id": "6d88d62b-fe36-47e0-ae3e-d4de979bfba1",
   "metadata": {
    "tags": []
   },
   "source": [
    "#### Nearest Neighbor Version (Section 4.5)"
   ]
  },
  {
   "cell_type": "code",
   "execution_count": 15,
   "id": "37029b20-02e5-4640-89b6-d56672ebcf51",
   "metadata": {
    "tags": []
   },
   "outputs": [],
   "source": [
    "def time_ccj_nn(k,w, params=0):\n",
    "    # new dimension\n",
    "    kp=k-(1-k)*w*(1-w)**(-1)\n",
    "    #weight on enumeration part\n",
    "    p = w*(kp)\n",
    "    #list size\n",
    "    L1=log2(1/w)*p/2\n",
    "    #nearest neighbor cost\n",
    "    T = may_ozerov_near_neighbor_time(L1,1-kp,w-p)\n",
    "    return max(L1,T), L1"
   ]
  },
  {
   "cell_type": "markdown",
   "id": "9d0ef534-7664-4969-bb56-6c20a1e1b047",
   "metadata": {},
   "source": [
    "#### Linearization Attack"
   ]
  },
  {
   "cell_type": "code",
   "execution_count": 16,
   "id": "1cf4de5f-df4c-4403-ac91-a1c7bc5cce7a",
   "metadata": {
    "tags": []
   },
   "outputs": [],
   "source": [
    "def time_ccj_lin(k,w,params=0):\n",
    "    c=1/w-1\n",
    "    d=k/w-1\n",
    "    return [-log2(1-d/c)*(w)*(1-w)-max(log2(1/w)*w-(1-k),0),0]"
   ]
  },
  {
   "cell_type": "markdown",
   "id": "70cce678-3ecb-41c7-99fa-abb42a9b16d7",
   "metadata": {},
   "source": [
    "# Compute WC time complexity exponents"
   ]
  },
  {
   "cell_type": "code",
   "execution_count": 17,
   "id": "54a0bfa7-c98f-4679-ab0b-e6c28c068394",
   "metadata": {
    "tags": []
   },
   "outputs": [],
   "source": [
    "#set number of processes used for computation\n",
    "PROCESSES=8"
   ]
  },
  {
   "cell_type": "code",
   "execution_count": 18,
   "id": "7a7ad637-f0d2-4584-94d6-5003b9c292a3",
   "metadata": {
    "tags": []
   },
   "outputs": [],
   "source": [
    "def time_perm_rsd_wrapper(k,w, params=0):\n",
    "    res= [time_perm_rsd(k,w),0]\n",
    "    if params:\n",
    "        return res+[[]]\n",
    "    return res"
   ]
  },
  {
   "cell_type": "code",
   "execution_count": 19,
   "id": "2d074718-fe91-4130-bf7a-c7ebc2bf6e02",
   "metadata": {
    "tags": []
   },
   "outputs": [],
   "source": [
    "def find_wc(time,kp,w_in):\n",
    "    \"\"\"\n",
    "    Function searches for given time complexity function $time$ and rate $kp$ with $w_in$ being uniquness bound\n",
    "    the worst case weight in [0.45, 0.559] \\cup {w_in}\n",
    "    \"\"\"\n",
    "    def process_val(a,b):\n",
    "        if type(a)==float or type(a)==np.float64 or type(a)==int:\n",
    "            return a,b\n",
    "        return a[0],a[1],b\n",
    "    \n",
    "    def size(x):\n",
    "        return log2(1/x)*x\n",
    "    pre=10\n",
    "    max_val=process_val(time(kp,w_in),w_in)\n",
    "    for i in range(pre*45,pre*56): \n",
    "        if size(kp*i/100/pre)<=1-kp:\n",
    "            tmp=time(kp,kp*i/100/pre)+[kp*i/100/pre]\n",
    "            #print(kp*i/100/pre,tmp[0])\n",
    "            if tmp[0]>99:\n",
    "                continue\n",
    "            if tmp[0]>max_val[0]:\n",
    "                max_val=time(kp,kp*i/100/pre)+[kp*i/100/pre]\n",
    "                \n",
    "    return kp,max_val\n",
    "\n",
    "    "
   ]
  },
  {
   "cell_type": "code",
   "execution_count": 20,
   "id": "39068f67-994c-4555-ab30-092a012c1248",
   "metadata": {
    "tags": []
   },
   "outputs": [],
   "source": [
    "\n",
    "def wrap_threads(args):\n",
    "    time,kp,w_in=args\n",
    "    a=find_wc(time,kp,w_in)\n",
    "    return a\n",
    "    \n",
    "def find_wc_parallel(time):\n",
    "    \"\"\"\n",
    "    launches PROCESSES many threads to compute the worst case weight for all rates\n",
    "    Returns list with entries [rate, [time_exponent, memory_exponent, worst_case_weight]]\n",
    "    \"\"\"\n",
    "    threads = []\n",
    "    results = []\n",
    "      \n",
    "    inputs = [[time, i/100,uniquness_bound(i/100)] for i in range(1,100)]\n",
    "    \n",
    "    with multiprocessing.Pool(processes=PROCESSES) as pool:\n",
    "        results = pool.map(wrap_threads, inputs)\n",
    "\n",
    "    return results"
   ]
  },
  {
   "cell_type": "code",
   "execution_count": 21,
   "id": "b55565b0-4c3a-405d-b9da-3f18751e9a4d",
   "metadata": {
    "tags": []
   },
   "outputs": [],
   "source": [
    "versions={\"CCJ\":{\"time\": time_ccj}, \n",
    "          \"CCJ-MO\":{\"time\": time_ccj_nn}, \n",
    "          \"Perm\": {\"time\": time_perm_rsd_wrapper}, \n",
    "          \"Enum\": {\"time\": time_enum}, \n",
    "          \"Rep\": {\"time\": time_rep}, \n",
    "          \"Rep-MO\": {\"time\": time_may_oze},\n",
    "          \"CCJ-lin\": {\"time\":time_ccj_lin}}\n",
    " \n",
    "#computes the worst case time complexity for all versions\n",
    "def compute_data():\n",
    "    for i in versions:\n",
    "        versions[i][\"data\"] = find_wc_parallel(versions[i][\"time\"])\n",
    "\n",
    "versions = read_dict()\n",
    "\n",
    "# COMPUTING WILL TAKE A WHILE! Already computed data is now loaded, to recompute uncomment next line\n",
    "# compute_data()"
   ]
  },
  {
   "cell_type": "markdown",
   "id": "e7c1bce2-025f-48e5-b820-2efd27d7ddbd",
   "metadata": {},
   "source": [
    "# Plotting"
   ]
  },
  {
   "cell_type": "code",
   "execution_count": 22,
   "id": "13ed69b6-7011-4e7d-a79f-c2b6ebb5ddbc",
   "metadata": {
    "tags": []
   },
   "outputs": [],
   "source": [
    "def plot(t, exclude=[]):\n",
    "    if t == \"weight\":\n",
    "        c=2\n",
    "    else:\n",
    "        c=0\n",
    "    plt.rcParams.update({'font.size': 16})\n",
    "    for i in versions:\n",
    "        if i in exclude:\n",
    "            continue\n",
    "        L=[[j[0],j[1][c]] for j in versions[i][\"data\"]]\n",
    "        x,y=zip(*L)\n",
    "        plt.plot(x,y, label=i)\n",
    "    if c==2:\n",
    "        L=[[0,0],[0.5,0.25]]\n",
    "        x,y=zip(*L)\n",
    "        plt.plot(x,y, label=\"w=k/2\")\n",
    "    plt.legend(bbox_to_anchor=(1.05, 1), loc='upper left')"
   ]
  },
  {
   "cell_type": "markdown",
   "id": "c35b3e2e-23e0-4250-bb56-60ff91295581",
   "metadata": {},
   "source": [
    "### Worst Case weight for regular-ISD"
   ]
  },
  {
   "cell_type": "code",
   "execution_count": 23,
   "id": "c8db702c-eb46-47a9-99f8-f91186fc9922",
   "metadata": {
    "tags": []
   },
   "outputs": [
    {
     "data": {
      "image/png": "[encoded data removed]",
      "text/plain": [
       "<Figure size 640x480 with 1 Axes>"
      ]
     },
     "metadata": {},
     "output_type": "display_data"
    }
   ],
   "source": [
    "plot(\"weight\", exclude=[\"CCJ\",\"CCJ-MO\",\"SD-Prange-Reg\"])"
   ]
  },
  {
   "cell_type": "markdown",
   "id": "16550e28-e070-4fa8-8137-36af0ad7e110",
   "metadata": {},
   "source": [
    "### Running time of regular-ISD "
   ]
  },
  {
   "cell_type": "code",
   "execution_count": 24,
   "id": "14517db2-2bc6-4d00-a8f7-c379736017b4",
   "metadata": {
    "tags": []
   },
   "outputs": [
    {
     "data": {
      "image/png": "[encoded data removed]",
      "text/plain": [
       "<Figure size 640x480 with 1 Axes>"
      ]
     },
     "metadata": {},
     "output_type": "display_data"
    }
   ],
   "source": [
    "plot(\"time\", exclude=[\"CCJ\",\"CCJ-MO\",\"CCJ-Lin\",\"SD-Prange-Reg\"])"
   ]
  },
  {
   "cell_type": "markdown",
   "id": "4250a7a6-56b0-4f75-83cd-357a9e88f54d",
   "metadata": {},
   "source": [
    "### Running time Rep-MO vs CCJ and Prange-Reg"
   ]
  },
  {
   "cell_type": "code",
   "execution_count": 25,
   "id": "e8e099ff-3ccd-40ab-a328-34060588fac9",
   "metadata": {
    "tags": []
   },
   "outputs": [
    {
     "data": {
      "image/png": "[encoded data removed]",
      "text/plain": [
       "<Figure size 640x480 with 1 Axes>"
      ]
     },
     "metadata": {},
     "output_type": "display_data"
    }
   ],
   "source": [
    "plot(\"time\", exclude=[\"Rep\",\"Perm\",\"Enum\"])"
   ]
  },
  {
   "cell_type": "markdown",
   "id": "af7ccf77-c399-4654-962b-04050e0f9e2e",
   "metadata": {},
   "source": [
    "### Worst Case decoding exponents"
   ]
  },
  {
   "cell_type": "code",
   "execution_count": 26,
   "id": "66681865-270b-4b27-8e3f-1a56a6d84328",
   "metadata": {
    "tags": []
   },
   "outputs": [
    {
     "name": "stdout",
     "output_type": "stream",
     "text": [
      "CCJ \t\t&\t 0.57 \t&\t 0.1659 \t&\t 0.1404 \t&\t 0.1404 \\\\\n",
      "CCJ-MO \t\t&\t 0.58 \t&\t 0.1575 \t&\t 0.1281 \t&\t 0.1054 \\\\\n",
      "Perm \t\t&\t 0.6 \t&\t 0.1421 \t&\t 0.1256 \t&\t 0.0000 \\\\\n",
      "Enum \t\t&\t 0.6 \t&\t 0.1421 \t&\t 0.1225 \t&\t 0.0287 \\\\\n",
      "Rep \t\t&\t 0.59 \t&\t 0.1496 \t&\t 0.1130 \t&\t 0.0714 \\\\\n",
      "Rep-MO \t\t&\t 0.57 \t&\t 0.1659 \t&\t 0.1117 \t&\t 0.0852 \\\\\n",
      "CCJ-lin \t\t&\t 0.61 \t&\t 0.135 \t&\t 0.1342 \t&\t 0.0000 \\\\\n"
     ]
    }
   ],
   "source": [
    "def round_up(x,d):\n",
    "    val=int(x*10**d+1)/10**d\n",
    "    if val<0.0002:\n",
    "        val=0\n",
    "    s=str(val)\n",
    "    if len(s)==1:\n",
    "        s+=\".\" \n",
    "    while len(s)<6:\n",
    "        s+=\"0\"\n",
    "    return s\n",
    "\n",
    "for i in versions:\n",
    "    worst= max(versions[i][\"data\"], key = lambda x: x[1][0])\n",
    "    versions[i][\"WC\"]=worst\n",
    "    if len(i)<8:\n",
    "        print(i,\"\\t\\t&\\t\",worst[0],\"\\t&\\t\",round(worst[1][2],4),\"\\t&\\t\",round_up(worst[1][0],4),\"\\t&\\t\",round_up(worst[1][1],4),\"\\\\\\\\\")\n",
    "    else:\n",
    "        print(i,\"\\t&\\t\",worst[0],\"\\t&\\t\",round(worst[1][2],4),\"\\t&\\t\",round_up(worst[1][0],4),\"\\t&\\t\",round_up(worst[1][1],4),\"\\\\\\\\\")"
   ]
  },
  {
   "cell_type": "markdown",
   "id": "0e523c77-93ac-46a3-bc19-1931f96718f8",
   "metadata": {},
   "source": [
    "### Compute optimal parameters for worst case "
   ]
  },
  {
   "cell_type": "code",
   "execution_count": 27,
   "id": "1c92afa6-2619-462d-bb95-4c0589498624",
   "metadata": {
    "tags": []
   },
   "outputs": [],
   "source": [
    "for i in versions:\n",
    "    wc = versions[i][\"WC\"]\n",
    "    w_in = wc[1][2]\n",
    "    kp = wc[0]\n",
    "    time = versions[i][\"time\"]\n",
    "    val = time(kp,w_in, params=1)\n",
    "    if len(val)>2:\n",
    "        versions[i][\"WC_params\"]=val[2]\n",
    "    else:\n",
    "        versions[i][\"WC_params\"]=[]"
   ]
  },
  {
   "cell_type": "code",
   "execution_count": 28,
   "id": "64e96047-4867-40a3-bcf9-34111acf283a",
   "metadata": {
    "tags": []
   },
   "outputs": [
    {
     "name": "stdout",
     "output_type": "stream",
     "text": [
      "+-----------+------+--------+--------+--------+-----------+-----------+-----------+-----------+\n",
      "| Algorithm | Rate | Weight |  Time  | Memory |    ell    |     p     |    d_x    |    d_y    |\n",
      "+-----------+------+--------+--------+--------+-----------+-----------+-----------+-----------+\n",
      "|    CCJ    | 0.57 | 0.1659 | 0.1404 | 0.1404 | 0.1403298 |     -     |     -     |     -     |\n",
      "|   CCJ-MO  | 0.58 | 0.1575 | 0.1281 | 0.1054 |     -     |     -     |     -     |     -     |\n",
      "|    Perm   | 0.6  | 0.1421 | 0.1256 | 0.0000 |     -     |     -     |     -     |     -     |\n",
      "|    Enum   | 0.6  | 0.1421 | 0.1225 | 0.0287 | 0.0286643 | 0.0077794 |     -     |     -     |\n",
      "|    Rep    | 0.59 | 0.1496 | 0.1130 | 0.0714 |  0.174843 | 0.0459864 | 0.0089251 | 0.0004394 |\n",
      "|   Rep-MO  | 0.57 | 0.1659 | 0.1117 | 0.0852 | 0.1431226 | 0.0591639 | 0.0140028 |  1.1e-06  |\n",
      "|  CCJ-lin  | 0.61 | 0.135  | 0.1342 | 0.0000 |     -     |     -     |     -     |     -     |\n",
      "+-----------+------+--------+--------+--------+-----------+-----------+-----------+-----------+\n"
     ]
    }
   ],
   "source": [
    "from prettytable import PrettyTable\n",
    "\n",
    "\n",
    "header=[\"Algorithm\",\"Rate\",\"Weight\",\"Time\",\"Memory\",\"ell\",\"p\",\"d_x\",\"d_y\"]\n",
    "t = PrettyTable(header)\n",
    "for i in versions:\n",
    "    wc = versions[i][\"WC\"]\n",
    "    w_in = wc[1][2]\n",
    "    kp = wc[0]\n",
    "    par =versions[i][\"WC_params\"]\n",
    "    params = [round(i,7) for i in par]+[\"-\" for _ in range(4-len(par))]\n",
    "    row=[i,kp,round(w_in,4),round_up(wc[1][0],4),round_up(wc[1][1],4),*params]\n",
    "    t.add_row(row)\n",
    "\n",
    "print(t)"
   ]
  },
  {
   "cell_type": "markdown",
   "id": "17af2a0c-00a5-4118-814c-3211fa4b0ecb",
   "metadata": {},
   "source": [
    "# Effect of Rounding Issues"
   ]
  },
  {
   "cell_type": "markdown",
   "id": "807c60bc-26b5-47fb-9927-58bbd20416b5",
   "metadata": {},
   "source": [
    "### Plot Precomputed Data from the Dictionary"
   ]
  },
  {
   "cell_type": "code",
   "execution_count": 29,
   "id": "220eb291-1dac-4434-93ce-7a9ca1f9278a",
   "metadata": {
    "tags": []
   },
   "outputs": [],
   "source": [
    "def get_lists_to_plot(Lround, Lasymp):\n",
    "    \"\"\"\n",
    "    Given the lists stored in versions[i][\"rounding\"] this function returns the lists containing \n",
    "    the relative difference and absolute values of the runtime exponents to be plotted\n",
    "    \"\"\"\n",
    "    L=[]\n",
    "    for i in range(len(Lround)):\n",
    "        L.append([Lround[i][0],Lround[i][1],Lasymp[i][1]])\n",
    "    L_relative_difference=[]\n",
    "    Lcomp_rounding=[]\n",
    "    Lcomp_asymptotic = []\n",
    "    for i in L:\n",
    "        L_relative_difference.append([i[0],i[1][0]/i[2][0]-1])\n",
    "        Lcomp_rounding.append([i[0],i[1][0]])\n",
    "        Lcomp_asymptotic.append([i[0],i[2][0]])\n",
    "    return L_relative_difference, Lcomp_rounding, Lcomp_asymptotic\n",
    "\n",
    "def plot_diff(L,label=-1):\n",
    "    \"\"\"\n",
    "    Plots the relative difference \n",
    "    \"\"\"\n",
    "\n",
    "    x,y=zip(*L)\n",
    "    if label ==-1:\n",
    "        plt.scatter(x,y, s=0.4)\n",
    "    else:\n",
    "        plt.scatter(x,y, s=0.4, label=label)\n",
    "    plt.legend(bbox_to_anchor=(1.05, 1), loc='upper left')\n",
    "\n",
    "def plot_absolute(L,L_r):\n",
    "    \"\"\"\n",
    "    Plots absolute values of runtime exponents with and without resolving rounding issues\n",
    "    \"\"\"\n",
    "    x,y=zip(*L)\n",
    "    plt.plot(x,y)\n",
    "    x,y=zip(*L_r)\n",
    "    plt.scatter(x,y, s=0.2, color=\"red\")\n",
    "    # plt.figure(figsize=(5,5))\n"
   ]
  },
  {
   "cell_type": "code",
   "execution_count": 30,
   "id": "79fa5a17-f47d-492b-8f0e-a6ff14441414",
   "metadata": {
    "tags": []
   },
   "outputs": [],
   "source": [
    "Lrounding=[]\n",
    "for i in [\"Perm\", \"Enum\", \"Rep\", \"Rep-MO\"]:\n",
    "    Ldiff,Lround,Lasymp = get_lists_to_plot(versions[i][\"rounding\"][\"resolved\"],versions[i][\"rounding\"][\"unresolved\"])\n",
    "    Lrounding.append([Ldiff,Lround,Lasymp, i])"
   ]
  },
  {
   "cell_type": "code",
   "execution_count": 31,
   "id": "3b306692-3db9-481f-a395-cb85021e396d",
   "metadata": {
    "tags": []
   },
   "outputs": [
    {
     "data": {
      "image/png": "[encoded data removed]",
      "text/plain": [
       "<Figure size 640x480 with 1 Axes>"
      ]
     },
     "metadata": {},
     "output_type": "display_data"
    }
   ],
   "source": [
    "for i in Lrounding:\n",
    "    plot_diff(i[0],label =i[-1])"
   ]
  },
  {
   "cell_type": "code",
   "execution_count": 32,
   "id": "513ff9a0-cbe2-42c4-bb11-a049fffa5bba",
   "metadata": {
    "tags": []
   },
   "outputs": [
    {
     "name": "stderr",
     "output_type": "stream",
     "text": [
      "/var/folders/00/qwll29wx7tz76f_jsw1hvx4m0000gn/T/ipykernel_34315/2919190860.py:4: MatplotlibDeprecationWarning: Auto-removal of overlapping axes is deprecated since 3.6 and will be removed two minor releases later; explicitly call ax.remove() as needed.\n",
      "  plt.subplot(1, 4, count)\n"
     ]
    },
    {
     "data": {
      "image/png": "[encoded data removed]",
      "text/plain": [
       "<Figure size 1600x300 with 4 Axes>"
      ]
     },
     "metadata": {},
     "output_type": "display_data"
    }
   ],
   "source": [
    "count=1\n",
    "plt.subplots(figsize=(16, 3))\n",
    "for i in Lrounding:\n",
    "    plt.subplot(1, 4, count)\n",
    "    plt.ylim(top=0.15)\n",
    "    plot_absolute(i[2],i[1])\n",
    "    plt.tight_layout()\n",
    "    count+=1"
   ]
  },
  {
   "cell_type": "code",
   "execution_count": 33,
   "id": "04b42684-adc7-4c5f-b0e1-2ecc6cdfaf16",
   "metadata": {
    "tags": []
   },
   "outputs": [
    {
     "name": "stdout",
     "output_type": "stream",
     "text": [
      "For Perm :\n",
      "The maximum top-wards deviation from the upperbound is  2.4280407583083363 %\n",
      "For  44.183673469387756 % the asymptotic upperbound ignoring rounding issues is valid\n",
      "For  82.55102040816327 % the upperbound is valid within a 1% tolerance\n",
      "For Enum :\n",
      "The maximum top-wards deviation from the upperbound is  2.21230594262789 %\n",
      "For  43.46938775510204 % the asymptotic upperbound ignoring rounding issues is valid\n",
      "For  86.3265306122449 % the upperbound is valid within a 1% tolerance\n",
      "For Rep :\n",
      "The maximum top-wards deviation from the upperbound is  1.3898620510624848 %\n",
      "For  60.10204081632653 % the asymptotic upperbound ignoring rounding issues is valid\n",
      "For  95.71428571428572 % the upperbound is valid within a 1% tolerance\n",
      "For Rep-MO :\n",
      "The maximum top-wards deviation from the upperbound is  0.7795310308629899 %\n",
      "For  65.74358974358975 % the asymptotic upperbound ignoring rounding issues is valid\n",
      "For  100.0 % the upperbound is valid within a 1% tolerance\n"
     ]
    }
   ],
   "source": [
    "for i in Lrounding:    \n",
    "    c1=0\n",
    "    c0=0\n",
    "    Lr=i[0]\n",
    "    if i[-1]==\"Rep-MO\":\n",
    "        Lr=i[0][5:]\n",
    "    for j in Lr:\n",
    "        if j[1]<=0.01:\n",
    "            c1+=1\n",
    "        if j[1]<=0:\n",
    "            c0+=1\n",
    "    res0=c0/len(Lr)\n",
    "    res1=c1/len(Lr)\n",
    "    print(\"For\",i[-1],\":\")\n",
    "    print(\"The maximum top-wards deviation from the upperbound is \", max(Lr,key=lambda x: x[1])[1]*100,\"%\")\n",
    "    print(\"For \", res0*100,\"% the asymptotic upperbound ignoring rounding issues is valid\")\n",
    "    print(\"For \", res1*100,\"% the upperbound is valid within a 1% tolerance\")\n",
    "\n"
   ]
  },
  {
   "cell_type": "code",
   "execution_count": 34,
   "id": "bfbe496d-6a00-49a7-be1a-403c2f4ef5cb",
   "metadata": {
    "tags": []
   },
   "outputs": [],
   "source": [
    "from bisect import bisect_left  \n",
    "def Binary_Search(l, x): \n",
    "    \"\"\" \n",
    "    find largest index in l holding an element smaller than x\n",
    "    \"\"\"\n",
    "    i = bisect_left(l, x, key=lambda x:x[0]) \n",
    "    if i: \n",
    "        return (i-1) \n",
    "    else: \n",
    "        return -1  \n",
    "        \n",
    "def get_wc_weight(ver,k):\n",
    "    \"\"\"\n",
    "    computes the worst case for arbitrary rate k given a list of consecutive rates with corresponding worst case weights\n",
    "    by linear interpolation for a given version $ver$\n",
    "    \"\"\"\n",
    "    L=versions[ver][\"data\"]\n",
    "    if k>0.99:\n",
    "        k=0.989\n",
    "    ind=Binary_Search(L,k)\n",
    "    k1,w1= L[ind][0],L[ind][1][2]\n",
    "    k2,w2= L[ind+1][0],L[ind+1][1][2]\n",
    "    a=(w2-w1)/(k2-k1)\n",
    "    b=w1-a*k1\n",
    "    return min(a*k+b,uniquness_bound(k))\n",
    "\n",
    "def adapt_params_r(R, omega,w=10000):\n",
    "    \"\"\"\n",
    "    go to instance with integer blocksize\n",
    "    \"\"\"\n",
    "    b=ceil(1/omega)\n",
    "    omega_ = 1/b\n",
    "    n_ = b*w\n",
    "    k_= round(R*n_)\n",
    "    R_ = k_/n_\n",
    "    return R_,omega_"
   ]
  },
  {
   "cell_type": "code",
   "execution_count": 35,
   "id": "1b85edad-e564-4362-a5ef-6bb5e6bc3086",
   "metadata": {
    "tags": []
   },
   "outputs": [
    {
     "name": "stdout",
     "output_type": "stream",
     "text": [
      "Perm \t\t&\t 0.598 \t&\t 0.1436 \t&\t 0.1264 \t&\t 0.0000 \\\\\n",
      "Enum \t\t&\t 0.598 \t&\t 0.1436 \t&\t 0.1234 \t&\t 0.0308 \\\\\n",
      "Rep \t\t&\t 0.569 \t&\t 0.1668 \t&\t 0.1133 \t&\t 0.0694 \\\\\n",
      "Rep-MO \t\t&\t 0.569 \t&\t 0.1668 \t&\t 0.1122 \t&\t 0.0654 \\\\\n"
     ]
    }
   ],
   "source": [
    "def round_up(x,d):\n",
    "    val=int(x*10**d+1)/10**d\n",
    "    if val<0.0002:\n",
    "        val=0\n",
    "    s=str(val)\n",
    "    if len(s)==1:\n",
    "        s+=\".\" \n",
    "    while len(s)<6:\n",
    "        s+=\"0\"\n",
    "    return s\n",
    "\n",
    "for i in [\"Perm\",\"Enum\",\"Rep\",\"Rep-MO\"]:\n",
    "    worst= max(versions[i][\"rounding\"][\"resolved\"], key = lambda x: x[1][0])\n",
    "    if len(i)<8:\n",
    "        print(i,\"\\t\\t&\\t\",worst[0],\"\\t&\\t\",round(get_wc_weight(i,worst[0]),4),\"\\t&\\t\",round_up(worst[1][0],4),\"\\t&\\t\",round_up(worst[1][1],4),\"\\\\\\\\\")\n",
    "    else:\n",
    "        print(i,\"\\t&\\t\",worst[0],\"\\t&\\t\",round(worst[1][2],4),\"\\t&\\t\",round_up(worst[1][0],4),\"\\t&\\t\",round_up(worst[1][1],4),\"\\\\\\\\\")"
   ]
  },
  {
   "cell_type": "code",
   "execution_count": 36,
   "id": "6f3a0e20-fd79-46b4-afd5-fd21c2e4dcc8",
   "metadata": {
    "tags": []
   },
   "outputs": [],
   "source": [
    "from math import log2\n",
    "\n",
    "def compute_rounding_lists(time_r,time,ver,precision=1):\n",
    "    \"\"\"\n",
    "    Computes deviation given function computing time ($time$) and function fixing rounding issues ($time_r$) as well as the version ($ver$) (\"Perm\", \"Enum\", ... )\n",
    "    \"\"\"\n",
    "\n",
    "    L_relative_difference=[]\n",
    "    Lcomp_rounding=[]\n",
    "    Lcomp_asymptotic=[]\n",
    "\n",
    "\n",
    "    diff_vals = [];\n",
    "    omegas=[]\n",
    "    for R_idx in range(10,990,precision):\n",
    "    \n",
    "        R = R_idx/1000;\n",
    "        w = 10000;\n",
    "    \n",
    "        # worst case weight for version $ver$ for rate $R$\n",
    "        w_wc=get_wc_weight(ver,R)\n",
    "        \n",
    "        # Complexity of Perm without fixing the rounding issues\n",
    "        asymp_comp = time(R,w_wc)[0]#L_perm_wc[R_idx-10][1][0]\n",
    "        \n",
    "        time_rounding = time_r(R,w_wc)[0]\n",
    "    \n",
    "        L_relative_difference.append([R,time_rounding/asymp_comp - 1])\n",
    "        Lcomp_rounding.append([R, time_rounding])\n",
    "        Lcomp_asymptotic.append([R,asymp_comp])\n",
    "        if R_idx%100==0:\n",
    "            print(R_idx)\n",
    "    return L_relative_difference,Lcomp_rounding,Lcomp_asymptotic"
   ]
  },
  {
   "cell_type": "markdown",
   "id": "04e43311-0956-4220-8598-dc4f63b2fb21",
   "metadata": {},
   "source": [
    "### parallel version of above function (used in later computations)"
   ]
  },
  {
   "cell_type": "code",
   "execution_count": 37,
   "id": "8332fc7f-8c10-4e74-8c41-df3b84c39e88",
   "metadata": {
    "tags": []
   },
   "outputs": [],
   "source": [
    "from math import log2\n",
    "import concurrent.futures\n",
    "\n",
    "# DONT FORGET TO SET NUMBER OF THREADS\n",
    "num_threads = 8\n",
    "\n",
    "def compute_for_one_rate(R_idx):\n",
    "    R = R_idx/1000;\n",
    "    w = 10000;\n",
    "\n",
    "    # worst case weight for version $ver$ for rate $R$\n",
    "    w_wc=get_wc_weight(ver_thread,R)\n",
    "\n",
    "    # Complexity without fixing the rounding issues\n",
    "    asymp_comp = time_thread(R,w_wc,params=params_thread)\n",
    "\n",
    "    time_rounding = time_r_thread(R,w_wc,params=params_thread)\n",
    "    \n",
    "    return R,time_rounding,asymp_comp\n",
    "\n",
    "\n",
    "def return_two_lists(L):\n",
    "    Lcomp_rounding_full=[]\n",
    "    Lcomp_asymptotic_full = []\n",
    "    for i in L:\n",
    "        Lcomp_rounding_full.append([i[0],i[1]])\n",
    "        Lcomp_asymptotic_full.append([i[0],i[2]])\n",
    "    return Lcomp_rounding_full, Lcomp_asymptotic_full\n",
    "                                     \n",
    "def compute_rounding_lists_parallel(time_r,time,ver,precision=1,params=0):\n",
    "    \"\"\"\n",
    "    Computes deviation given function computing time ($time$) and function fixing rounding issues ($time_r$) as well as the version ($ver$) (\"Perm\", \"Enum\", ... )\n",
    "    \"\"\"\n",
    "\n",
    "    L_relative_difference=[]\n",
    "    Lcomp_rounding=[]\n",
    "    Lcomp_asymptotic=[]\n",
    "    \n",
    "    global time_thread, time_r_thread, ver_thread, params_thread\n",
    "    time_thread= time\n",
    "    time_r_thread = time_r\n",
    "    ver_thread=ver\n",
    "    params_thread=params\n",
    "\n",
    "    diff_vals = [];\n",
    "    omegas=[]\n",
    "    data = [i for i in range(100,990,precision)]\n",
    "\n",
    "    with concurrent.futures.ProcessPoolExecutor(max_workers=num_threads) as executor:\n",
    "        # Submit the function to the executor for each item in the iterable\n",
    "        results = list(executor.map(compute_for_one_rate, data))\n",
    "    return return_two_lists(results)\n",
    "\n"
   ]
  },
  {
   "cell_type": "markdown",
   "id": "47b08b29-7517-4846-817e-3c7c3c26b5e1",
   "metadata": {},
   "source": [
    "## Recompute Rounding Issue Resolved Data "
   ]
  },
  {
   "cell_type": "markdown",
   "id": "918b744c-d34e-4e42-a538-83cf54c41bfd",
   "metadata": {
    "tags": []
   },
   "source": [
    "### Solve Rounding Issues for Perm"
   ]
  },
  {
   "cell_type": "code",
   "execution_count": 54,
   "id": "f62f0efc-2a63-42e4-bba6-353ef5f3e4a0",
   "metadata": {
    "tags": []
   },
   "outputs": [],
   "source": [
    "def perm_with_rounding(R,omega, w=10000, params=0):\n",
    "    # adapting parameters of the instance as specified and then using formula from rounding issue section\n",
    "    R_,omega_ = adapt_params_r(R,omega)\n",
    "    k_=round(R*1/omega_*w)\n",
    "    eps = (k_-w)/w - floor((k_-w)/w)\n",
    "    res = [-(omega_ * (1-eps)*log(1-R_+(1+eps)*omega_,2)+ omega_ * eps*log(1-R_+eps*omega_,2)),0]\n",
    "    if params:\n",
    "        return res+[[]]\n",
    "    return res\n",
    "    "
   ]
  },
  {
   "cell_type": "code",
   "execution_count": 167,
   "id": "7286f7c6-3c19-4244-8fe6-790b2f566a87",
   "metadata": {
    "tags": []
   },
   "outputs": [],
   "source": [
    "Lcomp_rounding_perm_full,Lcomp_asymptotic_perm_full= compute_rounding_lists_parallel(perm_with_rounding,time_perm_rsd_wrapper,\"Perm\",params=1)\n",
    "versions[\"Perm\"][\"rounding\"]={}\n",
    "versions[\"Perm\"][\"rounding\"][\"resolved\"]=Lcomp_rounding_perm_full\n",
    "versions[\"Perm\"][\"rounding\"][\"unresolved\"]=Lcomp_asymptotic_perm_full\n"
   ]
  },
  {
   "cell_type": "markdown",
   "id": "c9dff8df-e33a-4775-a5b0-e8540eba380d",
   "metadata": {},
   "source": [
    "### Fix Rounding Issues for Enum"
   ]
  },
  {
   "cell_type": "code",
   "execution_count": 168,
   "id": "8ac87cf6-2a3e-49ed-b885-b353adeac431",
   "metadata": {
    "tags": []
   },
   "outputs": [],
   "source": [
    "set_vars_enum_r = collections.namedtuple('ENUM_R', 'ell p i o')\n",
    "\n",
    "def enum_r(f) : return wrap(f, set_vars_enum_r)\n",
    "\n",
    "v_r = lambda x: floor((k(x)+x.ell)/w(x))\n",
    "wp = lambda x: (k(x)+x.ell-v_r(x)*w(x))/2\n",
    "wm = lambda x: w(x)/2 - wp(x)\n",
    "\n",
    "prob = lambda x: 2*(binomH(wm(x),x.i)      +log2(1-v_r(x)/b(x))*(wm(x)-x.i)             +log2(v_r(x)/b(x))*x.i\n",
    "                  + binomH(wp(x),x.p/2-x.i)+log2(1-(v_r(x)+1)/b(x))*(wp(x)-(x.p/2-x.i)) +log2((v_r(x)+1)/b(x))*(x.p/2-x.i))\n",
    "\n",
    "L1_enum_r = lambda x: binomH(wm(x),x.i)+binomH(wp(x),x.p/2-x.i)+log2(v_r(x))*x.i+log2(v_r(x)+1)*(x.p/2-x.i)\n",
    "\n",
    "def time_enum_par_r(x):\n",
    "    x=set_vars_enum_r(*x)\n",
    "    if(b(x)-v_r(x)-1)<1e-10:\n",
    "        return 1000\n",
    "    if x.p>w(x) or v_r(x)/b(x)<=0 or 1-v_r(x)/b(x)<=0:\n",
    "        return 1000\n",
    "    \n",
    "    L = 2*L1_enum_r(x) - x.ell\n",
    "    \n",
    "    return max(L1_enum_r(x),L)-prob(x)\n",
    "\n",
    "def memory_enum_par_r(x):\n",
    "    x=set_vars_enum_r(*x)\n",
    "    return L1_enum_r(x)\n",
    "\n",
    "constraints_enum_r = [\n",
    "    \n",
    "    # bounds on variables\n",
    "    { 'type' : 'ineq',   'fun' : enum_r(lambda x : 1-(x.ell+k([])))},\n",
    "    { 'type' : 'ineq',   'fun' : enum_r(lambda x : w(x)-x.p)},\n",
    "    \n",
    "    \n",
    "    # blocks of width at least one\n",
    "    { 'type' : 'ineq',   'fun' : enum_r(lambda x : b(x)-v_r(x)-1)},\n",
    "    { 'type' : 'ineq',   'fun' : enum_r(lambda x : v_r(x))},\n",
    "\n",
    "    { 'type' : 'ineq',   'fun' : enum_r(lambda x : x.p/2-x.i)},\n",
    "    { 'type' : 'ineq',   'fun' : enum_r(lambda x : wp(x)-(x.p/2-x.i))},\n",
    "    { 'type' : 'ineq',   'fun' : enum_r(lambda x : wm(x)-x.i)},\n",
    "\n",
    "]\n",
    "\n",
    "\n",
    "def time_enum_r(k,w, params=0):\n",
    "    # outputs time and memory to solve RSD via Enum\n",
    "    k,w=adapt_params_r(k,w)\n",
    "    return time_opt(k,w,time_enum_par_r,memory_enum_par_r,constraints_enum_r,4,iterations=1000,give_x=0, params=params)\n"
   ]
  },
  {
   "cell_type": "code",
   "execution_count": 60,
   "id": "08cdae13-8779-444e-b8c9-773b67ffe725",
   "metadata": {
    "tags": []
   },
   "outputs": [],
   "source": [
    "Lcomp_rounding_enum_full,Lcomp_asymptotic_enum_full= compute_rounding_lists_parallel(time_enum_r,time_enum,\"Enum\",precision=1,params=1)\n",
    "versions[\"Enum\"][\"rounding\"]={}\n",
    "versions[\"Enum\"][\"rounding\"][\"resolved\"]=Lcomp_rounding_enum_full\n",
    "versions[\"Enum\"][\"rounding\"][\"unresolved\"]=Lcomp_asymptotic_enum_full"
   ]
  },
  {
   "cell_type": "markdown",
   "id": "69aeedbb-52c6-4c06-9eb8-00b94fa8b91f",
   "metadata": {},
   "source": [
    "### Fix Rounding Issues for Rep"
   ]
  },
  {
   "cell_type": "code",
   "execution_count": 195,
   "id": "079e34dd-04ed-4948-8269-a23227a96f9b",
   "metadata": {
    "tags": []
   },
   "outputs": [],
   "source": [
    "set_vars_bj_r = collections.namedtuple('REP_r', 'ell p d1 d2 i di1 di2 o')\n",
    "\n",
    "def rep_r(f) : return wrap(f, set_vars_bj_r)\n",
    "\n",
    "def representations_r(ell,p_target,p_addends,block):\n",
    "    return binomH(p_target, p_target/2)+binomH(ell-p_target,p_addends-p_target/2)+log2(block)*(p_addends-p_target/2)\n",
    "\n",
    "v_r = lambda x: floor((k(x)+x.ell)/w(x))\n",
    "wp_bj = lambda x: k(x)+x.ell-v_r(x)*w(x)\n",
    "wm_bj = lambda x: w(x) - wp_bj(x)\n",
    "\n",
    "prob_bj_r = lambda x: binomH(wm_bj(x),x.i)      +log2(1-v_r(x)/b(x))*(wm_bj(x)-x.i)             +log2(v_r(x)/b(x))*x.i + \\\n",
    "                    binomH(wp_bj(x),x.p-x.i)+log2(1-(v_r(x)+1)/b(x))*(wp_bj(x)-(x.p-x.i)) +log2((v_r(x)+1)/b(x))*(x.p-x.i)\n",
    "\n",
    "# weight on each level (root level is level 0 with weight x.p)\n",
    "p1_r = lambda x: (x.p-x.i)/2  + x.d1\n",
    "p2_r = lambda x: p1_r(x) / 2  + x.d2\n",
    "p3_r = lambda x: p2_r(x) / 2\n",
    "\n",
    "pi1 = lambda x: x.i/2 + x.di1\n",
    "pi2 = lambda x: pi1(x) / 2  + x.di2\n",
    "pi3 = lambda x: pi2(x) / 2\n",
    "\n",
    "\n",
    "# representations ri from level i to level i-1\n",
    "r1_r = lambda x: representations_r(wm_bj(x), x.i   , pi1(x), v_r(x)) + representations_r(wp_bj(x), x.p-x.i, p1_r(x), v_r(x)+1)\n",
    "r2_r = lambda x: representations_r(wm_bj(x), pi1(x), pi2(x), v_r(x)) + representations_r(wp_bj(x), p1_r(x)  , p2_r(x), v_r(x)+1)\n",
    "\n",
    "# list sizes on each level\n",
    "L1_r = lambda x: binomH(wm_bj(x)  , pi1(x)) + log2(v_r(x)) * pi1(x) + binomH(wp_bj(x), p1_r(x) ) + log2(v_r(x)+1) * p1_r(x) - r1_r(x)\n",
    "L2_r = lambda x: binomH(wm_bj(x)  , pi2(x)) + log2(v_r(x)) * pi2(x) + binomH(wp_bj(x), p2_r(x) ) + log2(v_r(x)+1) * p2_r(x) - r2_r(x)\n",
    "L3_r = lambda x: binomH(wm_bj(x)/2, pi3(x)) + log2(v_r(x)) * pi3(x) + binomH(wp_bj(x)/2,p3_r(x)) + log2(v_r(x)+1) * p3_r(x)\n",
    "\n",
    "# time Ti to construct lists on level i\n",
    "T1_r = lambda x: max(2*L1_r(x) - ( x.ell - r1_r(x)  ), L1_r(x))\n",
    "T2_r = lambda x: max(2*L2_r(x) - ( r1_r(x) - r2_r(x)), L2_r(x))\n",
    "T3_r = lambda x: max(2*L3_r(x) - ( r2_r(x)          ), L3_r(x))\n",
    "\n",
    "\n",
    "                      \n",
    "def time_rep_par_r(x):\n",
    "    x=set_vars_bj_r(*x)  \n",
    "    \n",
    "    # ensuring block length on k+ell part is not larger than overall block length\n",
    "    if (v_r(x)+1)/b(x)>=1 or v_r(x)<0.99 or x.p<x.i:# or wm(x)-x.i<0 or wp(x)-(x.p-x.i)<0 or x.p-x.i<0:\n",
    "        return 1000\n",
    "    \n",
    "    return max(T1_r(x),T2_r(x),T3_r(x))-prob_bj_r(x)\n",
    "\n",
    "def memory_rep_par_r(x):\n",
    "    x=set_vars_bj_r(*x)\n",
    "    return max(L3_r(x),L2_r(x),L1_r(x))\n",
    "\n",
    "constraints_rep_r = [\n",
    "    \n",
    "    # representation constraints\n",
    "    { 'type' : 'ineq',   'fun' : rep_r(lambda x : x.ell-r1_r(x))},\n",
    "    { 'type' : 'ineq',   'fun' : rep_r(lambda x : r1_r(x)-r2_r(x))},\n",
    "    \n",
    "    # bounds on variables\n",
    "    { 'type' : 'ineq',   'fun' : rep_r(lambda x : 1-(x.ell+k([])))},\n",
    "    # for considering always all blocks in the permutation switch next both lines\n",
    "    #{ 'type' : 'ineq',   'fun' : rep(lambda x : w(x)-x.N)},\n",
    "    { 'type' : 'ineq',   'fun' : rep_r(lambda x : x.p-x.i)},\n",
    "    \n",
    "    # blocks of width at least 1 \n",
    "    { 'type' : 'ineq',   'fun' : rep_r(lambda x : b(x)-v_r(x)-0.9999)},\n",
    "    { 'type' : 'ineq',   'fun' : rep_r(lambda x : v_r(x)-0.9999)},\n",
    "    \n",
    "    # weight on each level + weight that cancels must fit into the N blocks\n",
    "    { 'type' : 'ineq',   'fun' : rep_r(lambda x : wp_bj(x)-p2_r(x))},\n",
    "    { 'type' : 'ineq',   'fun' : rep_r(lambda x : wp_bj(x)-p1_r(x)-x.d2)},\n",
    "    { 'type' : 'ineq',   'fun' : rep_r(lambda x : wp_bj(x)-(x.p-x.i)-x.d1)},\n",
    "\n",
    "    { 'type' : 'ineq',   'fun' : rep_r(lambda x : wm_bj(x)-pi2(x))},\n",
    "    { 'type' : 'ineq',   'fun' : rep_r(lambda x : wm_bj(x)-pi1(x)-x.di2)},\n",
    "    { 'type' : 'ineq',   'fun' : rep_r(lambda x : wm_bj(x)-x.i-x.di1)},\n",
    "]\n",
    "\n",
    "def time_rep_r(k,w, params=0):\n",
    "    # outputs time and memory to solve RSD via Rep depth 3\n",
    "    k,w=adapt_params_r(k,w)\n",
    "    return time_opt(k,w,time_rep_par_r,memory_rep_par_r,constraints_rep_r,8,iterations=100,give_x=0, params=params)\n",
    "\n"
   ]
  },
  {
   "cell_type": "code",
   "execution_count": null,
   "id": "0cb1b4db-8da9-4567-9b49-15f2bd95fe82",
   "metadata": {},
   "outputs": [],
   "source": [
    "Lcomp_rounding_rep_full,Lcomp_asymptotic_rep_full= compute_rounding_lists_parallel(time_rep_r,time_rep,\"Rep\",precision=1,params=1)\n",
    "versions[\"Rep\"][\"rounding\"]={}\n",
    "versions[\"Rep\"][\"rounding\"][\"resolved\"]=Lcomp_rounding_rep_full\n",
    "versions[\"Rep\"][\"rounding\"][\"unresolved\"]=Lcomp_asymptotic_rep_full"
   ]
  },
  {
   "cell_type": "markdown",
   "id": "159aecb2-460f-4b02-9b61-384aac316997",
   "metadata": {},
   "source": [
    "### Fix Rounding Issues for Rep-MO"
   ]
  },
  {
   "cell_type": "code",
   "execution_count": 204,
   "id": "f2ff5bee-4f7b-4627-88a3-825147cb1d55",
   "metadata": {
    "tags": []
   },
   "outputs": [],
   "source": [
    "set_vars_bj_r = collections.namedtuple('REP_r', 'ell p d1 d2 i di1 di2 o')\n",
    "\n",
    "def rep_r(f) : return wrap(f, set_vars_bj_r)\n",
    "\n",
    "def representations_r(ell,p_target,p_addends,block):\n",
    "    if block<=0:\n",
    "        return 0\n",
    "    return binomH(p_target, p_target/2)+binomH(ell-p_target,p_addends-p_target/2)+log2(block)*(p_addends-p_target/2)\n",
    "    \n",
    "v_r = lambda x: floor((k(x)+x.ell)/w(x))\n",
    "wp_bj = lambda x: k(x)+x.ell-v_r(x)*w(x)\n",
    "wm_bj = lambda x: w(x) - wp_bj(x)\n",
    "\n",
    "prob_bj_r = lambda x: binomH(wm_bj(x),x.i)      +log2(1-v_r(x)/b(x))*(wm_bj(x)-x.i)             +log2(v_r(x)/b(x))*x.i + \\\n",
    "                    binomH(wp_bj(x),x.p-x.i)+log2(1-(v_r(x)+1)/b(x))*(wp_bj(x)-(x.p-x.i)) +log2((v_r(x)+1)/b(x))*(x.p-x.i)\n",
    "\n",
    "# weight on each level (root level is level 0 with weight x.p)\n",
    "p1_r = lambda x: (x.p-x.i)/2  + x.d1\n",
    "p2_r = lambda x: p1_r(x) / 2  + x.d2\n",
    "p3_r = lambda x: p2_r(x) / 2\n",
    "\n",
    "pi1 = lambda x: x.i/2 + x.di1\n",
    "pi2 = lambda x: pi1(x) / 2  + x.di2\n",
    "pi3 = lambda x: pi2(x) / 2\n",
    "\n",
    "\n",
    "# representations ri from level i to level i-1\n",
    "r1_r = lambda x: representations_r(wm_bj(x), x.i   , pi1(x), v_r(x)) + representations_r(wp_bj(x), x.p-x.i, p1_r(x), v_r(x)+1)\n",
    "r2_r = lambda x: representations_r(wm_bj(x), pi1(x), pi2(x), v_r(x)) + representations_r(wp_bj(x), p1_r(x)  , p2_r(x), v_r(x)+1)\n",
    "\n",
    "# list sizes on each level\n",
    "L1_r = lambda x: binomH(wm_bj(x)  , pi1(x)) + log2(v_r(x)) * pi1(x) + binomH(wp_bj(x), p1_r(x) ) + log2(v_r(x)+1) * p1_r(x) - r1_r(x)\n",
    "L2_r = lambda x: binomH(wm_bj(x)  , pi2(x)) + log2(v_r(x)) * pi2(x) + binomH(wp_bj(x), p2_r(x) ) + log2(v_r(x)+1) * p2_r(x) - r2_r(x)\n",
    "L3_r = lambda x: binomH(wm_bj(x)/2, pi3(x)) + log2(v_r(x)) * pi3(x) + binomH(wp_bj(x)/2,p3_r(x)) + log2(v_r(x)+1) * p3_r(x)\n",
    "\n",
    "# time Ti to construct lists on level i\n",
    "T1_r = lambda x: max(may_ozerov_near_neighbor_time(L1_r(x),1-k(x)-x.ell,w(x)-x.p), L1_r(x))\n",
    "T2_r = lambda x: max(2*L2_r(x) - ( r1_r(x) - r2_r(x)), L2_r(x))\n",
    "T3_r = lambda x: max(2*L3_r(x) - ( r2_r(x)          ), L3_r(x))\n",
    "\n",
    "\n",
    "                      \n",
    "def time_rep_par_r(x):\n",
    "    x=set_vars_bj_r(*x)  \n",
    "    \n",
    "    # ensuring block length on k+ell part is not larger than overall block length\n",
    "    if v_r(x)<0 or v_r(x)/b(x) >=1 or (v_r(x)+1)/b(x)>=1 or v_r(x)<0.99 or x.p<x.i:# or wm(x)-x.i<0 or wp(x)-(x.p-x.i)<0 or x.p-x.i<0:\n",
    "        return 1000\n",
    "    \n",
    "    return max(T1_r(x),T2_r(x),T3_r(x))-prob_bj_r(x)\n",
    "\n",
    "def memory_rep_par_r(x):\n",
    "    x=set_vars_bj_r(*x)\n",
    "    return max(L3_r(x),L2_r(x),L1_r(x))\n",
    "\n",
    "constraints_rep_r = [\n",
    "    \n",
    "    # representation constraints\n",
    "    { 'type' : 'eq',   'fun' : rep_r(lambda x : x.ell-r1_r(x))},\n",
    "    { 'type' : 'ineq',   'fun' : rep_r(lambda x : r1_r(x)-r2_r(x))},\n",
    "    \n",
    "    # bounds on variables\n",
    "    { 'type' : 'ineq',   'fun' : rep_r(lambda x : 1-(x.ell+k([])))},\n",
    "    # for considering always all blocks in the permutation switch next both lines\n",
    "    #{ 'type' : 'ineq',   'fun' : rep(lambda x : w(x)-x.N)},\n",
    "    { 'type' : 'ineq',   'fun' : rep_r(lambda x : x.p-x.i)},\n",
    "    \n",
    "    # blocks of width at least 1 \n",
    "    { 'type' : 'ineq',   'fun' : rep_r(lambda x : b(x)-v_r(x)-0.9999)},\n",
    "    { 'type' : 'ineq',   'fun' : rep_r(lambda x : v_r(x)-0.9999)},\n",
    "    \n",
    "    # weight on each level + weight that cancels must fit into the N blocks\n",
    "    { 'type' : 'ineq',   'fun' : rep_r(lambda x : wp_bj(x)-p2_r(x))},\n",
    "    { 'type' : 'ineq',   'fun' : rep_r(lambda x : wp_bj(x)-p1_r(x)-x.d2)},\n",
    "    { 'type' : 'ineq',   'fun' : rep_r(lambda x : wp_bj(x)-(x.p-x.i)-x.d1)},\n",
    "\n",
    "    { 'type' : 'ineq',   'fun' : rep_r(lambda x : wm_bj(x)-pi2(x))},\n",
    "    { 'type' : 'ineq',   'fun' : rep_r(lambda x : wm_bj(x)-pi1(x)-x.di2)},\n",
    "    { 'type' : 'ineq',   'fun' : rep_r(lambda x : wm_bj(x)-x.i-x.di1)},\n",
    "]\n",
    "\n",
    "def time_rep_mo_r(k,w, params=0):\n",
    "    # outputs time and memory to solve RSD via Rep depth 3\n",
    "    k,w=adapt_params_r(k,w)\n",
    "    return time_opt(k,w,time_rep_par_r,memory_rep_par_r,constraints_rep_r,8,iterations=2000,give_x=0, params=params)\n",
    "\n"
   ]
  },
  {
   "cell_type": "code",
   "execution_count": 282,
   "id": "ea8daeaf-191a-4aa4-8e4b-553a9b74c56c",
   "metadata": {
    "tags": []
   },
   "outputs": [],
   "source": [
    "L_relative_difference_repmo,Lcomp_rounding_repmo,Lcomp_asymptotic_repmo,\\\n",
    "Lcomp_rounding_repmo_full,Lcomp_asymptotic_repmo_full = compute_rounding_lists_parallel(time_rep_mo_r,time_may_oze,\"Rep-MO\",precision=1,params=1)\n",
    "\n",
    "versions[\"Rep-MO\"][\"rounding\"]={}\n",
    "versions[\"Rep-MO\"][\"rounding\"][\"resolved\"]=Lcomp_rounding_repmo_full\n",
    "versions[\"Rep-MO\"][\"rounding\"][\"unresolved\"]=Lcomp_asymptotic_repmo_full"
   ]
  },
  {
   "cell_type": "markdown",
   "id": "185f77da-5792-409e-a722-fb7c026b114a",
   "metadata": {},
   "source": [
    "## Create CSV files containing all optimal values and the parameters leading to them"
   ]
  },
  {
   "cell_type": "code",
   "execution_count": 150,
   "id": "3ed1e6b4-9ccb-493f-a842-c9dbc969b102",
   "metadata": {
    "tags": []
   },
   "outputs": [],
   "source": [
    "import csv\n",
    "\n",
    "def write_csv(L,name):\n",
    "    f = open(name, 'w')\n",
    "    writer = csv.writer(f)\n",
    "    for i in L:\n",
    "        writer.writerow(i)\n",
    "    f.close()"
   ]
  },
  {
   "cell_type": "markdown",
   "id": "68a742dd-2e34-4e9f-ad51-d0f193cf1658",
   "metadata": {
    "tags": []
   },
   "source": [
    "### Perm"
   ]
  },
  {
   "cell_type": "code",
   "execution_count": 196,
   "id": "c3f801d3-6367-41d7-a94a-5fc232ea5f90",
   "metadata": {
    "tags": []
   },
   "outputs": [],
   "source": [
    "Lr=versions[\"Perm\"][\"rounding\"][\"resolved\"]\n",
    "La=versions[\"Perm\"][\"rounding\"][\"unresolved\"]\n",
    "\n",
    "Lcsv_rounding=[[\"Rate\",\"Weight\",\"Time\"]]\n",
    "Lcsv_asymptotic=[[\"Rate\",\"Weight\",\"Time\"]]\n",
    "for i in range(len(Lr)):\n",
    "    rate=Lr[i][0]\n",
    "    weight=get_wc_weight(\"Perm\",rate)\n",
    "    Lcsv_rounding.append([rate,weight,Lr[i][1][0]])\n",
    "    Lcsv_asymptotic.append([rate,weight,La[i][1][0]])\n",
    "write_csv(Lcsv_rounding,\"PERM_rounding_resolved.csv\")\n",
    "write_csv(Lcsv_asymptotic,\"PERM_rounding_unresolved.csv\")"
   ]
  },
  {
   "cell_type": "markdown",
   "id": "4e4da3fc-9166-4a61-864b-be11e4aecf40",
   "metadata": {},
   "source": [
    "### Enum"
   ]
  },
  {
   "cell_type": "code",
   "execution_count": 197,
   "id": "5c642a85-b14a-4d4c-9f5c-a9217b91630d",
   "metadata": {
    "tags": []
   },
   "outputs": [],
   "source": [
    "Lr=versions[\"Enum\"][\"rounding\"][\"resolved\"]\n",
    "La=versions[\"Enum\"][\"rounding\"][\"unresolved\"]\n",
    "\n",
    "Lcsv_rounding=[[\"Rate\",\"Weight\",\"Time\",\"ell\", \"p\",\"i\"]]\n",
    "Lcsv_asymptotic=[[\"Rate\",\"Weight\",\"Time\", \"ell\", \"p\"]]\n",
    "for i in range(len(Lr)):\n",
    "    rate=Lr[i][0]\n",
    "    weight=get_wc_weight(\"Enum\",rate)\n",
    "    xa=set_vars_enum(*(np.append(La[i][1][-1],1)))\n",
    "    xr=set_vars_enum_r(*(np.append(Lr[i][1][-1],1)))\n",
    "    Lcsv_rounding.append([rate,weight,Lr[i][1][0],xr.ell,xr.p,xr.i])\n",
    "    Lcsv_asymptotic.append([rate,weight,La[i][1][0],xa.ell,xa.p])\n",
    "write_csv(Lcsv_rounding,\"ENUM_rounding_resolved.csv\")\n",
    "write_csv(Lcsv_asymptotic,\"ENUM_rounding_unresolved.csv\")"
   ]
  },
  {
   "cell_type": "markdown",
   "id": "5d56f068-b946-4f39-8d83-c1b6d28d653e",
   "metadata": {},
   "source": [
    "### Rep"
   ]
  },
  {
   "cell_type": "code",
   "execution_count": 205,
   "id": "156abfc0-1f6a-4305-8a74-4c8cef92f921",
   "metadata": {
    "tags": []
   },
   "outputs": [],
   "source": [
    "Lr=versions[\"Rep\"][\"rounding\"][\"resolved\"]\n",
    "La=versions[\"Rep\"][\"rounding\"][\"unresolved\"]\n",
    "\n",
    "Lcsv_rounding=[[\"Rate\",\"Weight\",\"Time\",\"ell\",\"p\",\"p^+_x\",\"p^+_y\",\"i\",\"p^-_x\",\"p^-_y\"]]\n",
    "Lcsv_asymptotic=[[\"Rate\",\"Weight\",\"Time\",\"ell\",\"p\",\"p_x\",\"p_y\"]]\n",
    "for i in range(len(Lr)):\n",
    "    rate=Lr[i][0]\n",
    "    weight=get_wc_weight(\"Rep\",rate)\n",
    "    xa=set_vars_bj(*(np.append(La[i][1][-1],1)))\n",
    "    xr=set_vars_bj_r(*(np.append(Lr[i][1][-1],1)))\n",
    "    Lcsv_rounding.append([rate,weight,Lr[i][1][0],xr.ell,xr.p,p1_r(xr),p2_r(xr),xr.i,pi1(xr),pi2(xr)])\n",
    "    Lcsv_asymptotic.append([rate,weight,La[i][1][0],xa.ell,xa.p,p1(xa),p2(xa)])\n",
    "write_csv(Lcsv_rounding,\"Rep_rounding_resolved.csv\")\n",
    "write_csv(Lcsv_asymptotic,\"Rep_rounding_unresolved.csv\")"
   ]
  },
  {
   "cell_type": "markdown",
   "id": "7412bb74-1a34-4c4d-9445-898b64124888",
   "metadata": {},
   "source": [
    "### Rep-MO"
   ]
  },
  {
   "cell_type": "code",
   "execution_count": 206,
   "id": "1a6d27e8-8b41-476b-8434-9edec5f722fe",
   "metadata": {
    "tags": []
   },
   "outputs": [],
   "source": [
    "Lr=versions[\"Rep-MO\"][\"rounding\"][\"resolved\"]\n",
    "La=versions[\"Rep-MO\"][\"rounding\"][\"unresolved\"]\n",
    "\n",
    "Lcsv_rounding=[[\"Rate\",\"Weight\",\"Time\",\"ell\",\"p\",\"p^+_x\",\"p^+_y\",\"i\",\"p^-_x\",\"p^-_y\"]]\n",
    "Lcsv_asymptotic=[[\"Rate\",\"Weight\",\"Time\",\"ell\",\"p\",\"p_x\",\"p_y\"]]\n",
    "for i in range(len(Lr)):\n",
    "    rate=Lr[i][0]\n",
    "    weight=get_wc_weight(\"Rep-MO\",rate)\n",
    "    xa=set_vars_repmo(*(np.append(La[i][1][-1],1)))\n",
    "    xr=set_vars_bj_r(*(np.append(Lr[i][1][-1],1)))\n",
    "    Lcsv_rounding.append([rate,weight,Lr[i][1][0],xr.ell,xr.p,p1_r(xr),p2_r(xr),xr.i,pi1(xr),pi2(xr)])\n",
    "    Lcsv_asymptotic.append([rate,weight,La[i][1][0],xa.ell,xa.p,p1(xa),p2(xa)])\n",
    "write_csv(Lcsv_rounding,\"RepMO_rounding_resolved.csv\")\n",
    "write_csv(Lcsv_asymptotic,\"RepMO_rounding_unresolved.csv\")"
   ]
  },
  {
   "cell_type": "markdown",
   "id": "b333d352-1816-4d00-a7a8-c5c50bc72b1a",
   "metadata": {},
   "source": [
    "write_dict(d)"
   ]
  },
  {
   "cell_type": "code",
   "execution_count": null,
   "id": "b08eb32d-569c-41fd-9980-40581e04993d",
   "metadata": {},
   "outputs": [],
   "source": []
  }
 ],
 "metadata": {
  "kernelspec": {
   "display_name": "Python 3 (ipykernel)",
   "language": "python",
   "name": "python3"
  },
  "language_info": {
   "codemirror_mode": {
    "name": "ipython",
    "version": 3
   },
   "file_extension": ".py",
   "mimetype": "text/x-python",
   "name": "python",
   "nbconvert_exporter": "python",
   "pygments_lexer": "ipython3",
   "version": "3.11.4"
  }
 },
 "nbformat": 4,
 "nbformat_minor": 5
}
