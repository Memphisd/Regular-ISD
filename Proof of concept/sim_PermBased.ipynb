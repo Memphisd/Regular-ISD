{
 "cells": [
  {
   "cell_type": "markdown",
   "id": "52963823",
   "metadata": {},
   "source": [
    "# Proof of concept of PERM-Based Regular ISD\n",
    "\n",
    "This code applies PERM-Based Regular ISD on random RSD instances, measures the success probability and compares it with theoretical estimates.\n",
    "\n",
    "In particular, we expemimentally estimate the following quantities:\n",
    "- probability that $H'$ (obtained from $H$ by adding the parity-checks encoding regularity) has full rank\n",
    "- probability that the sampled set of $k' = k-w$ positions is not an information set\n",
    "- success probability"
   ]
  },
  {
   "cell_type": "code",
   "execution_count": 9,
   "id": "91d39277",
   "metadata": {},
   "outputs": [],
   "source": [
    "reset(); \n",
    "\n",
    "#Generate random RSD instance (requires that n is divided by b)\n",
    "def sample_rsdp_instance(n,k,b,w):\n",
    "\n",
    "    F2 = GF(2);\n",
    "\n",
    "    #Sample full rank parity-check matrix\n",
    "    rank_H = 0;\n",
    "    while rank_H < (n-k):\n",
    "        H = random_matrix(F2,n-k,n);\n",
    "        rank_H = rank(H);\n",
    "\n",
    "    #Sample regular error vector\n",
    "    e = matrix(F2,1,n);\n",
    "    for i in range(w):\n",
    "        pos = randrange(b);\n",
    "        e[0,i*b+pos] = F2(1);\n",
    "\n",
    "    #Compute syndrome\n",
    "    s = H*e.transpose();\n",
    "\n",
    "    return H, e, s;\n",
    "\n",
    "##############################################\n",
    "\n",
    "#Include the additional parity-check equations\n",
    "def add_parity_checks(H, s, n, k, b, w):\n",
    "\n",
    "    #Compute adapted parameters\n",
    "    r = n - k;\n",
    "    rp = n - k + w;\n",
    "    kp = n - rp;\n",
    "\n",
    "    ##Modify H: add partiy-check equations, remove last columns\n",
    "    new_H = matrix(GF(2),rp,n);\n",
    "    new_H[0:r, :] = H;\n",
    "    for i in range(w):\n",
    "        for j in range(b):\n",
    "            new_H[r+i,i*b+j] = 1;\n",
    "\n",
    "    new_H = new_H[:,0:n];\n",
    "\n",
    "    ##Modify s: add new bits, corresponding to new parity-check equations\n",
    "    new_s = matrix(GF(2), rp, 1);\n",
    "    new_s[0:r, 0] = s;\n",
    "    for i in range(w):\n",
    "        new_s[r+i,0] = 1;\n",
    "\n",
    "    return new_H, new_s;"
   ]
  },
  {
   "cell_type": "markdown",
   "id": "bc6b64a6",
   "metadata": {},
   "source": [
    "# Implementation of PERM-Based regular ISD\n",
    "The implementation is only meant to be a proof of concept; it is only meant to verify the success probability and the probabilities that the employed have the desired rank "
   ]
  },
  {
   "cell_type": "code",
   "execution_count": 10,
   "id": "b4977a67",
   "metadata": {},
   "outputs": [],
   "source": [
    "#Sample regular permutation\n",
    "#Sample v_f coordinates from w_f blocks, v_c coordinates from w_c blocks and move them in first positions;\n",
    "#These coordinates will constitute the information set\n",
    "#The remaining coodinates are moved in the last positions\n",
    "\n",
    "def sample_regular_permutation(n, b, v_f, v_c, w_f, w_c):\n",
    "    \n",
    "    P_list = []; #regular permutation\n",
    "    \n",
    "    #We first sample coordinates for the w_f blocks (v_f from each block)\n",
    "    for i in range(w_f):\n",
    "        \n",
    "        perm_of_b = Permutations(range(b)).random_element();\n",
    "        for j in range(v_f):\n",
    "            P_list.append(i*b+perm_of_b[j]);\n",
    "    \n",
    "    #Now, sample coordinates for the w_c blocks (v_c from each block)\n",
    "    for i in range(w_c):\n",
    "        \n",
    "        perm_of_b = Permutations(range(b)).random_element();\n",
    "        for j in range(v_c):\n",
    "            P_list.append((w_f+i)*b+perm_of_b[j]);\n",
    "\n",
    "    #Now, place the remaining coordinates (i.e., those that will be move to the last n-k' positions)\n",
    "    for i in range(n):\n",
    "        if i not in P_list:\n",
    "            P_list.append(i);\n",
    "    \n",
    "    #Create permutation matrix out of P\n",
    "    P = matrix(GF(2),n,n);\n",
    "    for i in range(n):\n",
    "        P[P_list[i], i] = 1;\n",
    "        \n",
    "    return P;\n",
    "\n",
    "######################\n",
    "#Perm-based ISD; it receives as input the H with additional equations\n",
    "#It also updates the empirical estimates (last three parameters)\n",
    "def PERM_based_ISD(n, k_prime, w, b, new_H, new_s, num_success, num_full_rank, num_new_H_full_rank):\n",
    "    \n",
    "    ok = 0; #ok becomes 1 when a solution is found\n",
    "\n",
    "    #Sample regular permutation\n",
    "    P = sample_regular_permutation(n, b, v_f, v_c, w_f, w_c);\n",
    "\n",
    "    #Apply permutation to H\n",
    "    perm_H = new_H*P;\n",
    "\n",
    "    #Do Gaussian elimination\n",
    "    perm_H_left = perm_H[:,k_prime:n];\n",
    "\n",
    "    is_full_rank = 0; #set to 1 if left-k'matrix has full rank\n",
    "\n",
    "    if rank(perm_H_left) == (n-k_prime): #if full rank, we found an info set\n",
    "\n",
    "        is_full_rank = 1;\n",
    "\n",
    "        perm_e1 = new_s.transpose()*perm_H_left.inverse().transpose();\n",
    "        weight_perm_e1 = perm_e1.list().count(1);\n",
    "\n",
    "        if weight_perm_e1 == w:\n",
    "\n",
    "            #we only need to check if the found vector yields to a regular vector\n",
    "            perm_candidate_e = matrix(GF(2),1,n);\n",
    "            perm_candidate_e[0,k_prime:n] = perm_e1;\n",
    "\n",
    "            #Apply inverse permutation\n",
    "            candidate_e = perm_candidate_e*P^-1;\n",
    "\n",
    "            #Check if the found vector is regular\n",
    "            is_regular = 1;\n",
    "            for i in range(w):\n",
    "                num_ones_in_block = candidate_e[0,i*b:(i+1)*b].list().count(1);\n",
    "                if num_ones_in_block != 1:\n",
    "                    is_regular = 0;\n",
    "\n",
    "            if is_regular:\n",
    "                ok = 1;  \n",
    "             #   print(candidate_e==e);\n",
    "                    \n",
    "        num_success += ok;\n",
    "        num_full_rank += is_full_rank;\n",
    "        \n",
    "    return num_success, num_full_rank, num_new_H_full_rank;"
   ]
  },
  {
   "cell_type": "markdown",
   "id": "8e88e94e",
   "metadata": {},
   "source": [
    "# Set simulation\n",
    "\n",
    "Select the code parameters ($n$, $k$, $b$ and $w$) and the number of RSD instances to be generated (denoted by $\\mathtt{num}\\_\\mathtt{instances}$)"
   ]
  },
  {
   "cell_type": "code",
   "execution_count": 11,
   "id": "f1fc32f0",
   "metadata": {},
   "outputs": [
    {
     "name": "stdout",
     "output_type": "stream",
     "text": [
      "Considering: [n, k, w, b] = [90, 45, 10, 9]\n",
      "Number of solutions: S = 1.00000000000000\n",
      "Th. success probability: p_iter(NO rounding) = 0.00209724218345199, p_iter(WITH rounding) = 0.00201199993839252\n"
     ]
    }
   ],
   "source": [
    "#Parameters\n",
    "n = 90; #code length\n",
    "k = 45; #code dimension\n",
    "w = 10; #number of blocks with weight 1\n",
    "\n",
    "num_instances = 100000; #number of RSD instances\n",
    "\n",
    "b = n/w; #size of blocks (length of unit vectors forming the solution)\n",
    "\n",
    "S = max(1,b**w/(2**(n-k))); #number of solutions\n",
    "\n",
    "k_prime = k-w; #new code dimension\n",
    "p_iter = (1-k_prime/n)**w; #success probability without considering rounding issues, single solution\n",
    "\n",
    "#We now consider rounding issues and the corresponding success probability\n",
    "v_f = floor(k_prime/w);\n",
    "v_c = ceil(k_prime/w);\n",
    "\n",
    "w_f = w - (k_prime-w*v_f);  #number of blocks from which we select v_f coordinates\n",
    "w_c = w - w_f; #number of blocks from which we select v_c coordinates\n",
    "\n",
    "p_iter_rounding = (1-v_f/b)**w_f * (1-v_c/b)**w_c; #success probability with rounding issues, single solution\n",
    "\n",
    "print(\"Considering: [n, k, w, b] = \"+str([n, k, w, b]));\n",
    "print(\"Number of solutions: S = \"+str(N(S)));\n",
    "print(\"Th. success probability: p_iter(NO rounding) = \"+str(N(0.2887*min(1, S*p_iter)))+\", p_iter(WITH rounding) = \"+str(N(0.2887*min(1, S*p_iter_rounding))));\n",
    "      "
   ]
  },
  {
   "cell_type": "markdown",
   "id": "5c0c1ee8",
   "metadata": {},
   "source": [
    "# Start simulation and wait for results!"
   ]
  },
  {
   "cell_type": "code",
   "execution_count": 12,
   "id": "249e6c6a",
   "metadata": {},
   "outputs": [
    {
     "name": "stdout",
     "output_type": "stream",
     "text": [
      "Num instances = 10000\n"
     ]
    },
    {
     "data": {
      "text/html": [
       "<div class=\"notruncate\">\n",
       "<table  class=\"table_form\">\n",
       "<tbody>\n",
       "<tr>\n",
       "<th>Probability</th>\n",
       "<th>Value</th>\n",
       "</tr>\n",
       "<tr class =\"row-a\">\n",
       "<td>Experimental: Pr[H' has full rank]</td>\n",
       "<td>1.00000000000000</td>\n",
       "</tr>\n",
       "<tr class =\"row-b\">\n",
       "<td>Experimental: Pr[Gaussian El. is ok]</td>\n",
       "<td>0.285200000000000</td>\n",
       "</tr>\n",
       "<tr class =\"row-a\">\n",
       "<td>Experimental: Pr[Success]</td>\n",
       "<td>0.00160000000000000</td>\n",
       "</tr>\n",
       "<tr class =\"row-b\">\n",
       "<td>Theoretical: Pr[Success] (NO ROUNDING)</td>\n",
       "<td>0.00209724218345199</td>\n",
       "</tr>\n",
       "<tr class =\"row-a\">\n",
       "<td>Theoretical: Pr[Success] (WITH ROUNDING)</td>\n",
       "<td>0.00201199993839252</td>\n",
       "</tr>\n",
       "</tbody>\n",
       "</table>\n",
       "</div>"
      ],
      "text/plain": [
       "  Probability                                Value\n",
       "+------------------------------------------+---------------------+\n",
       "  Experimental: Pr[H' has full rank]         1.00000000000000\n",
       "  Experimental: Pr[Gaussian El. is ok]       0.285200000000000\n",
       "  Experimental: Pr[Success]                  0.00160000000000000\n",
       "  Theoretical: Pr[Success] (NO ROUNDING)     0.00209724218345199\n",
       "  Theoretical: Pr[Success] (WITH ROUNDING)   0.00201199993839252"
      ]
     },
     "metadata": {},
     "output_type": "display_data"
    },
    {
     "name": "stdout",
     "output_type": "stream",
     "text": [
      "------------------------------\n",
      "Num instances = 20000\n"
     ]
    },
    {
     "data": {
      "text/html": [
       "<div class=\"notruncate\">\n",
       "<table  class=\"table_form\">\n",
       "<tbody>\n",
       "<tr>\n",
       "<th>Probability</th>\n",
       "<th>Value</th>\n",
       "</tr>\n",
       "<tr class =\"row-a\">\n",
       "<td>Experimental: Pr[H' has full rank]</td>\n",
       "<td>1.00000000000000</td>\n",
       "</tr>\n",
       "<tr class =\"row-b\">\n",
       "<td>Experimental: Pr[Gaussian El. is ok]</td>\n",
       "<td>0.286700000000000</td>\n",
       "</tr>\n",
       "<tr class =\"row-a\">\n",
       "<td>Experimental: Pr[Success]</td>\n",
       "<td>0.00175000000000000</td>\n",
       "</tr>\n",
       "<tr class =\"row-b\">\n",
       "<td>Theoretical: Pr[Success] (NO ROUNDING)</td>\n",
       "<td>0.00209724218345199</td>\n",
       "</tr>\n",
       "<tr class =\"row-a\">\n",
       "<td>Theoretical: Pr[Success] (WITH ROUNDING)</td>\n",
       "<td>0.00201199993839252</td>\n",
       "</tr>\n",
       "</tbody>\n",
       "</table>\n",
       "</div>"
      ],
      "text/plain": [
       "  Probability                                Value\n",
       "+------------------------------------------+---------------------+\n",
       "  Experimental: Pr[H' has full rank]         1.00000000000000\n",
       "  Experimental: Pr[Gaussian El. is ok]       0.286700000000000\n",
       "  Experimental: Pr[Success]                  0.00175000000000000\n",
       "  Theoretical: Pr[Success] (NO ROUNDING)     0.00209724218345199\n",
       "  Theoretical: Pr[Success] (WITH ROUNDING)   0.00201199993839252"
      ]
     },
     "metadata": {},
     "output_type": "display_data"
    },
    {
     "name": "stdout",
     "output_type": "stream",
     "text": [
      "------------------------------\n",
      "Num instances = 30000\n"
     ]
    },
    {
     "data": {
      "text/html": [
       "<div class=\"notruncate\">\n",
       "<table  class=\"table_form\">\n",
       "<tbody>\n",
       "<tr>\n",
       "<th>Probability</th>\n",
       "<th>Value</th>\n",
       "</tr>\n",
       "<tr class =\"row-a\">\n",
       "<td>Experimental: Pr[H' has full rank]</td>\n",
       "<td>1.00000000000000</td>\n",
       "</tr>\n",
       "<tr class =\"row-b\">\n",
       "<td>Experimental: Pr[Gaussian El. is ok]</td>\n",
       "<td>0.286900000000000</td>\n",
       "</tr>\n",
       "<tr class =\"row-a\">\n",
       "<td>Experimental: Pr[Success]</td>\n",
       "<td>0.00163333333333333</td>\n",
       "</tr>\n",
       "<tr class =\"row-b\">\n",
       "<td>Theoretical: Pr[Success] (NO ROUNDING)</td>\n",
       "<td>0.00209724218345199</td>\n",
       "</tr>\n",
       "<tr class =\"row-a\">\n",
       "<td>Theoretical: Pr[Success] (WITH ROUNDING)</td>\n",
       "<td>0.00201199993839252</td>\n",
       "</tr>\n",
       "</tbody>\n",
       "</table>\n",
       "</div>"
      ],
      "text/plain": [
       "  Probability                                Value\n",
       "+------------------------------------------+---------------------+\n",
       "  Experimental: Pr[H' has full rank]         1.00000000000000\n",
       "  Experimental: Pr[Gaussian El. is ok]       0.286900000000000\n",
       "  Experimental: Pr[Success]                  0.00163333333333333\n",
       "  Theoretical: Pr[Success] (NO ROUNDING)     0.00209724218345199\n",
       "  Theoretical: Pr[Success] (WITH ROUNDING)   0.00201199993839252"
      ]
     },
     "metadata": {},
     "output_type": "display_data"
    },
    {
     "name": "stdout",
     "output_type": "stream",
     "text": [
      "------------------------------\n",
      "Num instances = 40000\n"
     ]
    },
    {
     "data": {
      "text/html": [
       "<div class=\"notruncate\">\n",
       "<table  class=\"table_form\">\n",
       "<tbody>\n",
       "<tr>\n",
       "<th>Probability</th>\n",
       "<th>Value</th>\n",
       "</tr>\n",
       "<tr class =\"row-a\">\n",
       "<td>Experimental: Pr[H' has full rank]</td>\n",
       "<td>1.00000000000000</td>\n",
       "</tr>\n",
       "<tr class =\"row-b\">\n",
       "<td>Experimental: Pr[Gaussian El. is ok]</td>\n",
       "<td>0.287800000000000</td>\n",
       "</tr>\n",
       "<tr class =\"row-a\">\n",
       "<td>Experimental: Pr[Success]</td>\n",
       "<td>0.00180000000000000</td>\n",
       "</tr>\n",
       "<tr class =\"row-b\">\n",
       "<td>Theoretical: Pr[Success] (NO ROUNDING)</td>\n",
       "<td>0.00209724218345199</td>\n",
       "</tr>\n",
       "<tr class =\"row-a\">\n",
       "<td>Theoretical: Pr[Success] (WITH ROUNDING)</td>\n",
       "<td>0.00201199993839252</td>\n",
       "</tr>\n",
       "</tbody>\n",
       "</table>\n",
       "</div>"
      ],
      "text/plain": [
       "  Probability                                Value\n",
       "+------------------------------------------+---------------------+\n",
       "  Experimental: Pr[H' has full rank]         1.00000000000000\n",
       "  Experimental: Pr[Gaussian El. is ok]       0.287800000000000\n",
       "  Experimental: Pr[Success]                  0.00180000000000000\n",
       "  Theoretical: Pr[Success] (NO ROUNDING)     0.00209724218345199\n",
       "  Theoretical: Pr[Success] (WITH ROUNDING)   0.00201199993839252"
      ]
     },
     "metadata": {},
     "output_type": "display_data"
    },
    {
     "name": "stdout",
     "output_type": "stream",
     "text": [
      "------------------------------\n",
      "Num instances = 50000\n"
     ]
    },
    {
     "data": {
      "text/html": [
       "<div class=\"notruncate\">\n",
       "<table  class=\"table_form\">\n",
       "<tbody>\n",
       "<tr>\n",
       "<th>Probability</th>\n",
       "<th>Value</th>\n",
       "</tr>\n",
       "<tr class =\"row-a\">\n",
       "<td>Experimental: Pr[H' has full rank]</td>\n",
       "<td>1.00000000000000</td>\n",
       "</tr>\n",
       "<tr class =\"row-b\">\n",
       "<td>Experimental: Pr[Gaussian El. is ok]</td>\n",
       "<td>0.288100000000000</td>\n",
       "</tr>\n",
       "<tr class =\"row-a\">\n",
       "<td>Experimental: Pr[Success]</td>\n",
       "<td>0.00172000000000000</td>\n",
       "</tr>\n",
       "<tr class =\"row-b\">\n",
       "<td>Theoretical: Pr[Success] (NO ROUNDING)</td>\n",
       "<td>0.00209724218345199</td>\n",
       "</tr>\n",
       "<tr class =\"row-a\">\n",
       "<td>Theoretical: Pr[Success] (WITH ROUNDING)</td>\n",
       "<td>0.00201199993839252</td>\n",
       "</tr>\n",
       "</tbody>\n",
       "</table>\n",
       "</div>"
      ],
      "text/plain": [
       "  Probability                                Value\n",
       "+------------------------------------------+---------------------+\n",
       "  Experimental: Pr[H' has full rank]         1.00000000000000\n",
       "  Experimental: Pr[Gaussian El. is ok]       0.288100000000000\n",
       "  Experimental: Pr[Success]                  0.00172000000000000\n",
       "  Theoretical: Pr[Success] (NO ROUNDING)     0.00209724218345199\n",
       "  Theoretical: Pr[Success] (WITH ROUNDING)   0.00201199993839252"
      ]
     },
     "metadata": {},
     "output_type": "display_data"
    },
    {
     "name": "stdout",
     "output_type": "stream",
     "text": [
      "------------------------------\n",
      "Num instances = 60000\n"
     ]
    },
    {
     "data": {
      "text/html": [
       "<div class=\"notruncate\">\n",
       "<table  class=\"table_form\">\n",
       "<tbody>\n",
       "<tr>\n",
       "<th>Probability</th>\n",
       "<th>Value</th>\n",
       "</tr>\n",
       "<tr class =\"row-a\">\n",
       "<td>Experimental: Pr[H' has full rank]</td>\n",
       "<td>1.00000000000000</td>\n",
       "</tr>\n",
       "<tr class =\"row-b\">\n",
       "<td>Experimental: Pr[Gaussian El. is ok]</td>\n",
       "<td>0.288066666666667</td>\n",
       "</tr>\n",
       "<tr class =\"row-a\">\n",
       "<td>Experimental: Pr[Success]</td>\n",
       "<td>0.00191666666666667</td>\n",
       "</tr>\n",
       "<tr class =\"row-b\">\n",
       "<td>Theoretical: Pr[Success] (NO ROUNDING)</td>\n",
       "<td>0.00209724218345199</td>\n",
       "</tr>\n",
       "<tr class =\"row-a\">\n",
       "<td>Theoretical: Pr[Success] (WITH ROUNDING)</td>\n",
       "<td>0.00201199993839252</td>\n",
       "</tr>\n",
       "</tbody>\n",
       "</table>\n",
       "</div>"
      ],
      "text/plain": [
       "  Probability                                Value\n",
       "+------------------------------------------+---------------------+\n",
       "  Experimental: Pr[H' has full rank]         1.00000000000000\n",
       "  Experimental: Pr[Gaussian El. is ok]       0.288066666666667\n",
       "  Experimental: Pr[Success]                  0.00191666666666667\n",
       "  Theoretical: Pr[Success] (NO ROUNDING)     0.00209724218345199\n",
       "  Theoretical: Pr[Success] (WITH ROUNDING)   0.00201199993839252"
      ]
     },
     "metadata": {},
     "output_type": "display_data"
    },
    {
     "name": "stdout",
     "output_type": "stream",
     "text": [
      "------------------------------\n",
      "Num instances = 70000\n"
     ]
    },
    {
     "data": {
      "text/html": [
       "<div class=\"notruncate\">\n",
       "<table  class=\"table_form\">\n",
       "<tbody>\n",
       "<tr>\n",
       "<th>Probability</th>\n",
       "<th>Value</th>\n",
       "</tr>\n",
       "<tr class =\"row-a\">\n",
       "<td>Experimental: Pr[H' has full rank]</td>\n",
       "<td>1.00000000000000</td>\n",
       "</tr>\n",
       "<tr class =\"row-b\">\n",
       "<td>Experimental: Pr[Gaussian El. is ok]</td>\n",
       "<td>0.288242857142857</td>\n",
       "</tr>\n",
       "<tr class =\"row-a\">\n",
       "<td>Experimental: Pr[Success]</td>\n",
       "<td>0.00197142857142857</td>\n",
       "</tr>\n",
       "<tr class =\"row-b\">\n",
       "<td>Theoretical: Pr[Success] (NO ROUNDING)</td>\n",
       "<td>0.00209724218345199</td>\n",
       "</tr>\n",
       "<tr class =\"row-a\">\n",
       "<td>Theoretical: Pr[Success] (WITH ROUNDING)</td>\n",
       "<td>0.00201199993839252</td>\n",
       "</tr>\n",
       "</tbody>\n",
       "</table>\n",
       "</div>"
      ],
      "text/plain": [
       "  Probability                                Value\n",
       "+------------------------------------------+---------------------+\n",
       "  Experimental: Pr[H' has full rank]         1.00000000000000\n",
       "  Experimental: Pr[Gaussian El. is ok]       0.288242857142857\n",
       "  Experimental: Pr[Success]                  0.00197142857142857\n",
       "  Theoretical: Pr[Success] (NO ROUNDING)     0.00209724218345199\n",
       "  Theoretical: Pr[Success] (WITH ROUNDING)   0.00201199993839252"
      ]
     },
     "metadata": {},
     "output_type": "display_data"
    },
    {
     "name": "stdout",
     "output_type": "stream",
     "text": [
      "------------------------------\n",
      "Num instances = 80000\n"
     ]
    },
    {
     "data": {
      "text/html": [
       "<div class=\"notruncate\">\n",
       "<table  class=\"table_form\">\n",
       "<tbody>\n",
       "<tr>\n",
       "<th>Probability</th>\n",
       "<th>Value</th>\n",
       "</tr>\n",
       "<tr class =\"row-a\">\n",
       "<td>Experimental: Pr[H' has full rank]</td>\n",
       "<td>1.00000000000000</td>\n",
       "</tr>\n",
       "<tr class =\"row-b\">\n",
       "<td>Experimental: Pr[Gaussian El. is ok]</td>\n",
       "<td>0.287712500000000</td>\n",
       "</tr>\n",
       "<tr class =\"row-a\">\n",
       "<td>Experimental: Pr[Success]</td>\n",
       "<td>0.00197500000000000</td>\n",
       "</tr>\n",
       "<tr class =\"row-b\">\n",
       "<td>Theoretical: Pr[Success] (NO ROUNDING)</td>\n",
       "<td>0.00209724218345199</td>\n",
       "</tr>\n",
       "<tr class =\"row-a\">\n",
       "<td>Theoretical: Pr[Success] (WITH ROUNDING)</td>\n",
       "<td>0.00201199993839252</td>\n",
       "</tr>\n",
       "</tbody>\n",
       "</table>\n",
       "</div>"
      ],
      "text/plain": [
       "  Probability                                Value\n",
       "+------------------------------------------+---------------------+\n",
       "  Experimental: Pr[H' has full rank]         1.00000000000000\n",
       "  Experimental: Pr[Gaussian El. is ok]       0.287712500000000\n",
       "  Experimental: Pr[Success]                  0.00197500000000000\n",
       "  Theoretical: Pr[Success] (NO ROUNDING)     0.00209724218345199\n",
       "  Theoretical: Pr[Success] (WITH ROUNDING)   0.00201199993839252"
      ]
     },
     "metadata": {},
     "output_type": "display_data"
    },
    {
     "name": "stdout",
     "output_type": "stream",
     "text": [
      "------------------------------\n",
      "Num instances = 90000\n"
     ]
    },
    {
     "data": {
      "text/html": [
       "<div class=\"notruncate\">\n",
       "<table  class=\"table_form\">\n",
       "<tbody>\n",
       "<tr>\n",
       "<th>Probability</th>\n",
       "<th>Value</th>\n",
       "</tr>\n",
       "<tr class =\"row-a\">\n",
       "<td>Experimental: Pr[H' has full rank]</td>\n",
       "<td>1.00000000000000</td>\n",
       "</tr>\n",
       "<tr class =\"row-b\">\n",
       "<td>Experimental: Pr[Gaussian El. is ok]</td>\n",
       "<td>0.287722222222222</td>\n",
       "</tr>\n",
       "<tr class =\"row-a\">\n",
       "<td>Experimental: Pr[Success]</td>\n",
       "<td>0.00213333333333333</td>\n",
       "</tr>\n",
       "<tr class =\"row-b\">\n",
       "<td>Theoretical: Pr[Success] (NO ROUNDING)</td>\n",
       "<td>0.00209724218345199</td>\n",
       "</tr>\n",
       "<tr class =\"row-a\">\n",
       "<td>Theoretical: Pr[Success] (WITH ROUNDING)</td>\n",
       "<td>0.00201199993839252</td>\n",
       "</tr>\n",
       "</tbody>\n",
       "</table>\n",
       "</div>"
      ],
      "text/plain": [
       "  Probability                                Value\n",
       "+------------------------------------------+---------------------+\n",
       "  Experimental: Pr[H' has full rank]         1.00000000000000\n",
       "  Experimental: Pr[Gaussian El. is ok]       0.287722222222222\n",
       "  Experimental: Pr[Success]                  0.00213333333333333\n",
       "  Theoretical: Pr[Success] (NO ROUNDING)     0.00209724218345199\n",
       "  Theoretical: Pr[Success] (WITH ROUNDING)   0.00201199993839252"
      ]
     },
     "metadata": {},
     "output_type": "display_data"
    },
    {
     "name": "stdout",
     "output_type": "stream",
     "text": [
      "------------------------------\n",
      "Num instances = 100000\n"
     ]
    },
    {
     "data": {
      "text/html": [
       "<div class=\"notruncate\">\n",
       "<table  class=\"table_form\">\n",
       "<tbody>\n",
       "<tr>\n",
       "<th>Probability</th>\n",
       "<th>Value</th>\n",
       "</tr>\n",
       "<tr class =\"row-a\">\n",
       "<td>Experimental: Pr[H' has full rank]</td>\n",
       "<td>1.00000000000000</td>\n",
       "</tr>\n",
       "<tr class =\"row-b\">\n",
       "<td>Experimental: Pr[Gaussian El. is ok]</td>\n",
       "<td>0.288360000000000</td>\n",
       "</tr>\n",
       "<tr class =\"row-a\">\n",
       "<td>Experimental: Pr[Success]</td>\n",
       "<td>0.00213000000000000</td>\n",
       "</tr>\n",
       "<tr class =\"row-b\">\n",
       "<td>Theoretical: Pr[Success] (NO ROUNDING)</td>\n",
       "<td>0.00209724218345199</td>\n",
       "</tr>\n",
       "<tr class =\"row-a\">\n",
       "<td>Theoretical: Pr[Success] (WITH ROUNDING)</td>\n",
       "<td>0.00201199993839252</td>\n",
       "</tr>\n",
       "</tbody>\n",
       "</table>\n",
       "</div>"
      ],
      "text/plain": [
       "  Probability                                Value\n",
       "+------------------------------------------+---------------------+\n",
       "  Experimental: Pr[H' has full rank]         1.00000000000000\n",
       "  Experimental: Pr[Gaussian El. is ok]       0.288360000000000\n",
       "  Experimental: Pr[Success]                  0.00213000000000000\n",
       "  Theoretical: Pr[Success] (NO ROUNDING)     0.00209724218345199\n",
       "  Theoretical: Pr[Success] (WITH ROUNDING)   0.00201199993839252"
      ]
     },
     "metadata": {},
     "output_type": "display_data"
    },
    {
     "name": "stdout",
     "output_type": "stream",
     "text": [
      "------------------------------\n"
     ]
    }
   ],
   "source": [
    "num_success = 0; #number of successful iterations\n",
    "num_full_rank = 0; #num of full rank matrices in ISD\n",
    "num_new_H_full_rank = 0; #number of H' with full ranks\n",
    "\n",
    "for id_instance in range(1, num_instances+1):\n",
    "\n",
    "    #Sample RSD instance\n",
    "    H, e, s = sample_rsdp_instance(n, k, b, w);\n",
    "\n",
    "    #Add parity-chek equations\n",
    "    new_H, new_s = add_parity_checks(H, s, n, k, b, w);\n",
    "    \n",
    "    if rank(new_H)==n-k_prime:\n",
    "        num_new_H_full_rank +=1;\n",
    "                \n",
    "    #Launch PERM-based ISD\n",
    "    num_success, num_full_rank, num_new_H_full_rank = PERM_based_ISD(n, k_prime, w, b, new_H, new_s, num_success, num_full_rank, num_new_H_full_rank);\n",
    "    \n",
    "     #Print comparison between theoretical and estimated\n",
    "    if (id_instance%10000) == 0:\n",
    "        \n",
    "        print(\"Num instances = \"+str(id_instance));\n",
    "        table_rows = []\n",
    "        table_rows.append([\"Experimental: Pr[H' has full rank]\",str(N(num_new_H_full_rank/id_instance))])\n",
    "        table_rows.append([\"Experimental: Pr[Gaussian El. is ok]\",str(N(N(num_full_rank/id_instance)))])        \n",
    "        table_rows.append([\"Experimental: Pr[Success]\",str(N(N(num_success/id_instance)))])\n",
    "        table_rows.append([\"Theoretical: Pr[Success] (NO ROUNDING)\",str(N(N(0.2887*min(1, S*p_iter))))])\n",
    "        table_rows.append([\"Theoretical: Pr[Success] (WITH ROUNDING)\",str(N(N(0.2887*min(1, S*p_iter_rounding))))])\n",
    "        \n",
    "        t = table(table_rows, header_row = [\"Probability\", \"Value\"])\n",
    "        show(t)\n",
    "        \n",
    "        print(\"------------------------------\");"
   ]
  }
 ],
 "metadata": {
  "kernelspec": {
   "display_name": "SageMath 9.5",
   "language": "sage",
   "name": "sagemath"
  },
  "language_info": {
   "codemirror_mode": {
    "name": "ipython",
    "version": 3
   },
   "file_extension": ".py",
   "mimetype": "text/x-python",
   "name": "python",
   "nbconvert_exporter": "python",
   "pygments_lexer": "ipython3",
   "version": "3.10.12"
  }
 },
 "nbformat": 4,
 "nbformat_minor": 5
}
